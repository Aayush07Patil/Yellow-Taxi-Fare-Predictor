{
 "cells": [
  {
   "cell_type": "code",
   "execution_count": 1,
   "id": "f56de61d",
   "metadata": {},
   "outputs": [],
   "source": [
    "#Importing Libraries we will use for data processing and ML model \n",
    "\n",
    "import pandas as pd\n",
    "from sodapy import Socrata\n",
    "import numpy as np\n",
    "import seaborn as sns\n",
    "import matplotlib.pyplot as plt\n",
    "import datetime as dt\n",
    "from sklearn.decomposition import PCA\n",
    "from sklearn.linear_model import LinearRegression\n",
    "from sklearn.tree import DecisionTreeRegressor\n",
    "from sklearn.ensemble import RandomForestRegressor\n",
    "from sklearn.ensemble import AdaBoostRegressor\n",
    "from sklearn.ensemble import GradientBoostingRegressor\n",
    "from xgboost import XGBRegressor\n",
    "from sklearn import metrics\n",
    "from sklearn.model_selection import train_test_split\n",
    "from sklearn.metrics import r2_score\n",
    "import time\n",
    "from IPython.display import clear_output"
   ]
  },
  {
   "cell_type": "code",
   "execution_count": 2,
   "id": "e15ec145-d04a-4310-ad1b-84f4dc24a7f4",
   "metadata": {},
   "outputs": [],
   "source": [
    "# Importing Modules for The GUI\n",
    "\n",
    "from tkinter import *\n",
    "from PIL import ImageTk, Image\n",
    "from tkinter import messagebox\n",
    "import joblib"
   ]
  },
  {
   "cell_type": "code",
   "execution_count": 3,
   "id": "2110f564",
   "metadata": {},
   "outputs": [
    {
     "name": "stderr",
     "output_type": "stream",
     "text": [
      "WARNING:root:Requests made without an app_token will be subject to strict throttling limits.\n"
     ]
    },
    {
     "data": {
      "text/html": [
       "<div>\n",
       "<style scoped>\n",
       "    .dataframe tbody tr th:only-of-type {\n",
       "        vertical-align: middle;\n",
       "    }\n",
       "\n",
       "    .dataframe tbody tr th {\n",
       "        vertical-align: top;\n",
       "    }\n",
       "\n",
       "    .dataframe thead th {\n",
       "        text-align: right;\n",
       "    }\n",
       "</style>\n",
       "<table border=\"1\" class=\"dataframe\">\n",
       "  <thead>\n",
       "    <tr style=\"text-align: right;\">\n",
       "      <th></th>\n",
       "      <th>vendorid</th>\n",
       "      <th>tpep_pickup_datetime</th>\n",
       "      <th>tpep_dropoff_datetime</th>\n",
       "      <th>passenger_count</th>\n",
       "      <th>trip_distance</th>\n",
       "      <th>ratecodeid</th>\n",
       "      <th>store_and_fwd_flag</th>\n",
       "      <th>pulocationid</th>\n",
       "      <th>dolocationid</th>\n",
       "      <th>payment_type</th>\n",
       "      <th>fare_amount</th>\n",
       "      <th>extra</th>\n",
       "      <th>mta_tax</th>\n",
       "      <th>tip_amount</th>\n",
       "      <th>tolls_amount</th>\n",
       "      <th>improvement_surcharge</th>\n",
       "      <th>total_amount</th>\n",
       "      <th>congestion_surcharge</th>\n",
       "    </tr>\n",
       "  </thead>\n",
       "  <tbody>\n",
       "    <tr>\n",
       "      <th>0</th>\n",
       "      <td>1</td>\n",
       "      <td>2020-01-01T00:28:15.000</td>\n",
       "      <td>2020-01-01T00:33:03.000</td>\n",
       "      <td>1</td>\n",
       "      <td>1.20</td>\n",
       "      <td>1</td>\n",
       "      <td>N</td>\n",
       "      <td>238</td>\n",
       "      <td>239</td>\n",
       "      <td>1</td>\n",
       "      <td>6</td>\n",
       "      <td>3</td>\n",
       "      <td>0.5</td>\n",
       "      <td>1.47</td>\n",
       "      <td>0</td>\n",
       "      <td>0.3</td>\n",
       "      <td>11.27</td>\n",
       "      <td>2.5</td>\n",
       "    </tr>\n",
       "    <tr>\n",
       "      <th>1</th>\n",
       "      <td>1</td>\n",
       "      <td>2020-01-01T00:35:39.000</td>\n",
       "      <td>2020-01-01T00:43:04.000</td>\n",
       "      <td>1</td>\n",
       "      <td>1.20</td>\n",
       "      <td>1</td>\n",
       "      <td>N</td>\n",
       "      <td>239</td>\n",
       "      <td>238</td>\n",
       "      <td>1</td>\n",
       "      <td>7</td>\n",
       "      <td>3</td>\n",
       "      <td>0.5</td>\n",
       "      <td>1.5</td>\n",
       "      <td>0</td>\n",
       "      <td>0.3</td>\n",
       "      <td>12.3</td>\n",
       "      <td>2.5</td>\n",
       "    </tr>\n",
       "    <tr>\n",
       "      <th>2</th>\n",
       "      <td>1</td>\n",
       "      <td>2020-01-01T00:47:41.000</td>\n",
       "      <td>2020-01-01T00:53:52.000</td>\n",
       "      <td>1</td>\n",
       "      <td>0.60</td>\n",
       "      <td>1</td>\n",
       "      <td>N</td>\n",
       "      <td>238</td>\n",
       "      <td>238</td>\n",
       "      <td>1</td>\n",
       "      <td>6</td>\n",
       "      <td>3</td>\n",
       "      <td>0.5</td>\n",
       "      <td>1</td>\n",
       "      <td>0</td>\n",
       "      <td>0.3</td>\n",
       "      <td>10.8</td>\n",
       "      <td>2.5</td>\n",
       "    </tr>\n",
       "    <tr>\n",
       "      <th>3</th>\n",
       "      <td>1</td>\n",
       "      <td>2020-01-01T00:55:23.000</td>\n",
       "      <td>2020-01-01T01:00:14.000</td>\n",
       "      <td>1</td>\n",
       "      <td>0.80</td>\n",
       "      <td>1</td>\n",
       "      <td>N</td>\n",
       "      <td>238</td>\n",
       "      <td>151</td>\n",
       "      <td>1</td>\n",
       "      <td>5.5</td>\n",
       "      <td>0.5</td>\n",
       "      <td>0.5</td>\n",
       "      <td>1.36</td>\n",
       "      <td>0</td>\n",
       "      <td>0.3</td>\n",
       "      <td>8.16</td>\n",
       "      <td>0</td>\n",
       "    </tr>\n",
       "    <tr>\n",
       "      <th>4</th>\n",
       "      <td>2</td>\n",
       "      <td>2020-01-01T00:01:58.000</td>\n",
       "      <td>2020-01-01T00:04:16.000</td>\n",
       "      <td>1</td>\n",
       "      <td>0.00</td>\n",
       "      <td>1</td>\n",
       "      <td>N</td>\n",
       "      <td>193</td>\n",
       "      <td>193</td>\n",
       "      <td>2</td>\n",
       "      <td>3.5</td>\n",
       "      <td>0.5</td>\n",
       "      <td>0.5</td>\n",
       "      <td>0</td>\n",
       "      <td>0</td>\n",
       "      <td>0.3</td>\n",
       "      <td>4.8</td>\n",
       "      <td>0</td>\n",
       "    </tr>\n",
       "  </tbody>\n",
       "</table>\n",
       "</div>"
      ],
      "text/plain": [
       "  vendorid     tpep_pickup_datetime    tpep_dropoff_datetime passenger_count  \\\n",
       "0        1  2020-01-01T00:28:15.000  2020-01-01T00:33:03.000               1   \n",
       "1        1  2020-01-01T00:35:39.000  2020-01-01T00:43:04.000               1   \n",
       "2        1  2020-01-01T00:47:41.000  2020-01-01T00:53:52.000               1   \n",
       "3        1  2020-01-01T00:55:23.000  2020-01-01T01:00:14.000               1   \n",
       "4        2  2020-01-01T00:01:58.000  2020-01-01T00:04:16.000               1   \n",
       "\n",
       "  trip_distance ratecodeid store_and_fwd_flag pulocationid dolocationid  \\\n",
       "0          1.20          1                  N          238          239   \n",
       "1          1.20          1                  N          239          238   \n",
       "2          0.60          1                  N          238          238   \n",
       "3          0.80          1                  N          238          151   \n",
       "4          0.00          1                  N          193          193   \n",
       "\n",
       "  payment_type fare_amount extra mta_tax tip_amount tolls_amount  \\\n",
       "0            1           6     3     0.5       1.47            0   \n",
       "1            1           7     3     0.5        1.5            0   \n",
       "2            1           6     3     0.5          1            0   \n",
       "3            1         5.5   0.5     0.5       1.36            0   \n",
       "4            2         3.5   0.5     0.5          0            0   \n",
       "\n",
       "  improvement_surcharge total_amount congestion_surcharge  \n",
       "0                   0.3        11.27                  2.5  \n",
       "1                   0.3         12.3                  2.5  \n",
       "2                   0.3         10.8                  2.5  \n",
       "3                   0.3         8.16                    0  \n",
       "4                   0.3          4.8                    0  "
      ]
     },
     "execution_count": 3,
     "metadata": {},
     "output_type": "execute_result"
    }
   ],
   "source": [
    "# Get data from API and load into pandas dataframe\n",
    "\n",
    "client = Socrata(\"data.cityofnewyork.us\", None)\n",
    "\n",
    "results = client.get(\"kxp8-n2sj\", limit = 2000000)\n",
    "\n",
    "taxi_df = pd.DataFrame.from_records(results)\n",
    "taxi_df.head()"
   ]
  },
  {
   "cell_type": "code",
   "execution_count": 4,
   "id": "833d6791-d108-4172-8368-684690f30807",
   "metadata": {},
   "outputs": [
    {
     "data": {
      "text/html": [
       "<div>\n",
       "<style scoped>\n",
       "    .dataframe tbody tr th:only-of-type {\n",
       "        vertical-align: middle;\n",
       "    }\n",
       "\n",
       "    .dataframe tbody tr th {\n",
       "        vertical-align: top;\n",
       "    }\n",
       "\n",
       "    .dataframe thead th {\n",
       "        text-align: right;\n",
       "    }\n",
       "</style>\n",
       "<table border=\"1\" class=\"dataframe\">\n",
       "  <thead>\n",
       "    <tr style=\"text-align: right;\">\n",
       "      <th></th>\n",
       "      <th>LocationID</th>\n",
       "      <th>Borough</th>\n",
       "      <th>Zone</th>\n",
       "      <th>service_zone</th>\n",
       "    </tr>\n",
       "  </thead>\n",
       "  <tbody>\n",
       "    <tr>\n",
       "      <th>0</th>\n",
       "      <td>1</td>\n",
       "      <td>EWR</td>\n",
       "      <td>Newark Airport</td>\n",
       "      <td>EWR</td>\n",
       "    </tr>\n",
       "    <tr>\n",
       "      <th>1</th>\n",
       "      <td>2</td>\n",
       "      <td>Queens</td>\n",
       "      <td>Jamaica Bay</td>\n",
       "      <td>Boro Zone</td>\n",
       "    </tr>\n",
       "    <tr>\n",
       "      <th>2</th>\n",
       "      <td>3</td>\n",
       "      <td>Bronx</td>\n",
       "      <td>Allerton/Pelham Gardens</td>\n",
       "      <td>Boro Zone</td>\n",
       "    </tr>\n",
       "    <tr>\n",
       "      <th>3</th>\n",
       "      <td>4</td>\n",
       "      <td>Manhattan</td>\n",
       "      <td>Alphabet City</td>\n",
       "      <td>Yellow Zone</td>\n",
       "    </tr>\n",
       "    <tr>\n",
       "      <th>4</th>\n",
       "      <td>5</td>\n",
       "      <td>Staten Island</td>\n",
       "      <td>Arden Heights</td>\n",
       "      <td>Boro Zone</td>\n",
       "    </tr>\n",
       "    <tr>\n",
       "      <th>...</th>\n",
       "      <td>...</td>\n",
       "      <td>...</td>\n",
       "      <td>...</td>\n",
       "      <td>...</td>\n",
       "    </tr>\n",
       "    <tr>\n",
       "      <th>260</th>\n",
       "      <td>261</td>\n",
       "      <td>Manhattan</td>\n",
       "      <td>World Trade Center</td>\n",
       "      <td>Yellow Zone</td>\n",
       "    </tr>\n",
       "    <tr>\n",
       "      <th>261</th>\n",
       "      <td>262</td>\n",
       "      <td>Manhattan</td>\n",
       "      <td>Yorkville East</td>\n",
       "      <td>Yellow Zone</td>\n",
       "    </tr>\n",
       "    <tr>\n",
       "      <th>262</th>\n",
       "      <td>263</td>\n",
       "      <td>Manhattan</td>\n",
       "      <td>Yorkville West</td>\n",
       "      <td>Yellow Zone</td>\n",
       "    </tr>\n",
       "    <tr>\n",
       "      <th>263</th>\n",
       "      <td>264</td>\n",
       "      <td>Unknown</td>\n",
       "      <td>NV</td>\n",
       "      <td>NaN</td>\n",
       "    </tr>\n",
       "    <tr>\n",
       "      <th>264</th>\n",
       "      <td>265</td>\n",
       "      <td>Unknown</td>\n",
       "      <td>NaN</td>\n",
       "      <td>NaN</td>\n",
       "    </tr>\n",
       "  </tbody>\n",
       "</table>\n",
       "<p>265 rows × 4 columns</p>\n",
       "</div>"
      ],
      "text/plain": [
       "     LocationID        Borough                     Zone service_zone\n",
       "0             1            EWR           Newark Airport          EWR\n",
       "1             2         Queens              Jamaica Bay    Boro Zone\n",
       "2             3          Bronx  Allerton/Pelham Gardens    Boro Zone\n",
       "3             4      Manhattan            Alphabet City  Yellow Zone\n",
       "4             5  Staten Island            Arden Heights    Boro Zone\n",
       "..          ...            ...                      ...          ...\n",
       "260         261      Manhattan       World Trade Center  Yellow Zone\n",
       "261         262      Manhattan           Yorkville East  Yellow Zone\n",
       "262         263      Manhattan           Yorkville West  Yellow Zone\n",
       "263         264        Unknown                       NV          NaN\n",
       "264         265        Unknown                      NaN          NaN\n",
       "\n",
       "[265 rows x 4 columns]"
      ]
     },
     "execution_count": 4,
     "metadata": {},
     "output_type": "execute_result"
    }
   ],
   "source": [
    "# Get taxizone lookup table from link\n",
    "\n",
    "taxi_zone_df = pd.read_csv('https://d37ci6vzurychx.cloudfront.net/misc/taxi+_zone_lookup.csv')\n",
    "taxi_zone_df"
   ]
  },
  {
   "cell_type": "code",
   "execution_count": 5,
   "id": "125f88a9",
   "metadata": {},
   "outputs": [
    {
     "data": {
      "text/plain": [
       "(2000000, 18)"
      ]
     },
     "execution_count": 5,
     "metadata": {},
     "output_type": "execute_result"
    }
   ],
   "source": [
    "#Shape of dataframe\n",
    "\n",
    "taxi_df.shape"
   ]
  },
  {
   "cell_type": "code",
   "execution_count": 6,
   "id": "b34f06e4",
   "metadata": {},
   "outputs": [
    {
     "data": {
      "text/plain": [
       "vendorid                 4142\n",
       "tpep_pickup_datetime        0\n",
       "tpep_dropoff_datetime       0\n",
       "passenger_count          4142\n",
       "trip_distance               0\n",
       "ratecodeid               4142\n",
       "store_and_fwd_flag       4142\n",
       "pulocationid                0\n",
       "dolocationid                0\n",
       "payment_type             4142\n",
       "fare_amount                 0\n",
       "extra                       0\n",
       "mta_tax                     0\n",
       "tip_amount                  0\n",
       "tolls_amount                0\n",
       "improvement_surcharge       0\n",
       "total_amount                0\n",
       "congestion_surcharge        0\n",
       "dtype: int64"
      ]
     },
     "execution_count": 6,
     "metadata": {},
     "output_type": "execute_result"
    }
   ],
   "source": [
    "#Checking null values\n",
    "\n",
    "taxi_df.isnull().sum()"
   ]
  },
  {
   "cell_type": "code",
   "execution_count": 7,
   "id": "034d8a34",
   "metadata": {},
   "outputs": [],
   "source": [
    "# Dropping rows with null values\n",
    "\n",
    "taxi_df = taxi_df.dropna()"
   ]
  },
  {
   "cell_type": "code",
   "execution_count": 8,
   "id": "da93be9a",
   "metadata": {},
   "outputs": [
    {
     "data": {
      "text/plain": [
       "(1995858, 18)"
      ]
     },
     "execution_count": 8,
     "metadata": {},
     "output_type": "execute_result"
    }
   ],
   "source": [
    "#Checking Shape after droping null value columns\n",
    "\n",
    "taxi_df.shape"
   ]
  },
  {
   "cell_type": "code",
   "execution_count": 9,
   "id": "436eb8cf",
   "metadata": {},
   "outputs": [
    {
     "data": {
      "text/plain": [
       "vendorid                 object\n",
       "tpep_pickup_datetime     object\n",
       "tpep_dropoff_datetime    object\n",
       "passenger_count          object\n",
       "trip_distance            object\n",
       "ratecodeid               object\n",
       "store_and_fwd_flag       object\n",
       "pulocationid             object\n",
       "dolocationid             object\n",
       "payment_type             object\n",
       "fare_amount              object\n",
       "extra                    object\n",
       "mta_tax                  object\n",
       "tip_amount               object\n",
       "tolls_amount             object\n",
       "improvement_surcharge    object\n",
       "total_amount             object\n",
       "congestion_surcharge     object\n",
       "dtype: object"
      ]
     },
     "execution_count": 9,
     "metadata": {},
     "output_type": "execute_result"
    }
   ],
   "source": [
    "#Checking data types\n",
    "\n",
    "taxi_df.dtypes"
   ]
  },
  {
   "cell_type": "code",
   "execution_count": 10,
   "id": "9b3980ea",
   "metadata": {},
   "outputs": [],
   "source": [
    "# This command will supress warning raised when chained assignments are used\n",
    "\n",
    "pd.options.mode.chained_assignment = None"
   ]
  },
  {
   "cell_type": "code",
   "execution_count": 11,
   "id": "94c27254",
   "metadata": {},
   "outputs": [],
   "source": [
    "#Converting data types to make it more usefull\n",
    "\n",
    "taxi_df['vendorid'] = pd.to_numeric(taxi_df['vendorid'])\n",
    "taxi_df['passenger_count'] = pd.to_numeric(taxi_df['passenger_count'])\n",
    "taxi_df['trip_distance'] = pd.to_numeric(taxi_df['trip_distance'])\n",
    "taxi_df['ratecodeid'] = pd.to_numeric(taxi_df['ratecodeid'])\n",
    "taxi_df['pulocationid'] = pd.to_numeric(taxi_df['pulocationid'])\n",
    "taxi_df['dolocationid'] = pd.to_numeric(taxi_df['dolocationid'])\n",
    "taxi_df['payment_type'] = pd.to_numeric(taxi_df['payment_type'])\n",
    "taxi_df['fare_amount'] = pd.to_numeric(taxi_df['fare_amount'])\n",
    "taxi_df['extra'] = pd.to_numeric(taxi_df['extra'])\n",
    "taxi_df['mta_tax'] = pd.to_numeric(taxi_df['mta_tax'])\n",
    "taxi_df['tip_amount'] = pd.to_numeric(taxi_df['tip_amount'])\n",
    "taxi_df['tolls_amount'] = pd.to_numeric(taxi_df['tolls_amount'])\n",
    "taxi_df['improvement_surcharge'] = pd.to_numeric(taxi_df['improvement_surcharge'])\n",
    "taxi_df['total_amount'] = pd.to_numeric(taxi_df['total_amount'])\n",
    "taxi_df['congestion_surcharge'] = pd.to_numeric(taxi_df['congestion_surcharge'])\n",
    "taxi_df['tpep_pickup_datetime'] = pd.to_datetime(taxi_df['tpep_pickup_datetime'])\n",
    "taxi_df['tpep_dropoff_datetime'] = pd.to_datetime(taxi_df['tpep_dropoff_datetime'])\n",
    "taxi_df['store_and_fwd_flag'] = taxi_df['store_and_fwd_flag'].astype('category')"
   ]
  },
  {
   "cell_type": "code",
   "execution_count": 12,
   "id": "215f311f",
   "metadata": {},
   "outputs": [
    {
     "data": {
      "text/plain": [
       "vendorid                          int64\n",
       "tpep_pickup_datetime     datetime64[ns]\n",
       "tpep_dropoff_datetime    datetime64[ns]\n",
       "passenger_count                   int64\n",
       "trip_distance                   float64\n",
       "ratecodeid                        int64\n",
       "store_and_fwd_flag             category\n",
       "pulocationid                      int64\n",
       "dolocationid                      int64\n",
       "payment_type                      int64\n",
       "fare_amount                     float64\n",
       "extra                           float64\n",
       "mta_tax                         float64\n",
       "tip_amount                      float64\n",
       "tolls_amount                    float64\n",
       "improvement_surcharge           float64\n",
       "total_amount                    float64\n",
       "congestion_surcharge            float64\n",
       "dtype: object"
      ]
     },
     "execution_count": 12,
     "metadata": {},
     "output_type": "execute_result"
    }
   ],
   "source": [
    "taxi_df.dtypes"
   ]
  },
  {
   "cell_type": "code",
   "execution_count": 13,
   "id": "163db0c8",
   "metadata": {},
   "outputs": [],
   "source": [
    "# Creating new columns named weekday number and pickup hour\n",
    "\n",
    "taxi_df['weekday_num'] = taxi_df.tpep_pickup_datetime.dt.weekday\n",
    "taxi_df['pickup_hour'] = taxi_df.tpep_pickup_datetime.dt.hour"
   ]
  },
  {
   "cell_type": "code",
   "execution_count": 14,
   "id": "2a281272",
   "metadata": {},
   "outputs": [
    {
     "data": {
      "text/plain": [
       "vendorid                          int64\n",
       "tpep_pickup_datetime     datetime64[ns]\n",
       "tpep_dropoff_datetime    datetime64[ns]\n",
       "passenger_count                   int64\n",
       "trip_distance                   float64\n",
       "ratecodeid                        int64\n",
       "store_and_fwd_flag             category\n",
       "pulocationid                      int64\n",
       "dolocationid                      int64\n",
       "payment_type                      int64\n",
       "fare_amount                     float64\n",
       "extra                           float64\n",
       "mta_tax                         float64\n",
       "tip_amount                      float64\n",
       "tolls_amount                    float64\n",
       "improvement_surcharge           float64\n",
       "total_amount                    float64\n",
       "congestion_surcharge            float64\n",
       "weekday_num                       int32\n",
       "pickup_hour                       int32\n",
       "dtype: object"
      ]
     },
     "execution_count": 14,
     "metadata": {},
     "output_type": "execute_result"
    }
   ],
   "source": [
    "taxi_df.dtypes"
   ]
  },
  {
   "cell_type": "code",
   "execution_count": 15,
   "id": "5633400a",
   "metadata": {},
   "outputs": [],
   "source": [
    "# Filtering the data with passengers more than zero and less than nine\n",
    "\n",
    "taxi_df = taxi_df[taxi_df['passenger_count']>0]\n",
    "taxi_df = taxi_df[taxi_df['passenger_count']<7]"
   ]
  },
  {
   "cell_type": "code",
   "execution_count": 16,
   "id": "d6682feb",
   "metadata": {},
   "outputs": [],
   "source": [
    "#Filtering data with Total fare more than zero\n",
    "\n",
    "taxi_df = taxi_df[taxi_df['total_amount']>0]"
   ]
  },
  {
   "cell_type": "code",
   "execution_count": 17,
   "id": "656b5e2c",
   "metadata": {},
   "outputs": [],
   "source": [
    "# Droping columns which are not necessary for The ML models\n",
    "\n",
    "ML_fair_df=taxi_df.drop(['vendorid','passenger_count','tpep_pickup_datetime','tpep_dropoff_datetime',\n",
    "                 'store_and_fwd_flag','ratecodeid','payment_type','fare_amount','extra','mta_tax',\n",
    "                 'tip_amount','tolls_amount','improvement_surcharge','congestion_surcharge'], axis=1)"
   ]
  },
  {
   "cell_type": "code",
   "execution_count": 18,
   "id": "6fd9fe90",
   "metadata": {},
   "outputs": [
    {
     "data": {
      "text/html": [
       "<div>\n",
       "<style scoped>\n",
       "    .dataframe tbody tr th:only-of-type {\n",
       "        vertical-align: middle;\n",
       "    }\n",
       "\n",
       "    .dataframe tbody tr th {\n",
       "        vertical-align: top;\n",
       "    }\n",
       "\n",
       "    .dataframe thead th {\n",
       "        text-align: right;\n",
       "    }\n",
       "</style>\n",
       "<table border=\"1\" class=\"dataframe\">\n",
       "  <thead>\n",
       "    <tr style=\"text-align: right;\">\n",
       "      <th></th>\n",
       "      <th>trip_distance</th>\n",
       "      <th>pulocationid</th>\n",
       "      <th>dolocationid</th>\n",
       "      <th>total_amount</th>\n",
       "      <th>weekday_num</th>\n",
       "      <th>pickup_hour</th>\n",
       "    </tr>\n",
       "  </thead>\n",
       "  <tbody>\n",
       "    <tr>\n",
       "      <th>0</th>\n",
       "      <td>1.2</td>\n",
       "      <td>238</td>\n",
       "      <td>239</td>\n",
       "      <td>11.27</td>\n",
       "      <td>2</td>\n",
       "      <td>0</td>\n",
       "    </tr>\n",
       "    <tr>\n",
       "      <th>1</th>\n",
       "      <td>1.2</td>\n",
       "      <td>239</td>\n",
       "      <td>238</td>\n",
       "      <td>12.30</td>\n",
       "      <td>2</td>\n",
       "      <td>0</td>\n",
       "    </tr>\n",
       "    <tr>\n",
       "      <th>2</th>\n",
       "      <td>0.6</td>\n",
       "      <td>238</td>\n",
       "      <td>238</td>\n",
       "      <td>10.80</td>\n",
       "      <td>2</td>\n",
       "      <td>0</td>\n",
       "    </tr>\n",
       "    <tr>\n",
       "      <th>3</th>\n",
       "      <td>0.8</td>\n",
       "      <td>238</td>\n",
       "      <td>151</td>\n",
       "      <td>8.16</td>\n",
       "      <td>2</td>\n",
       "      <td>0</td>\n",
       "    </tr>\n",
       "    <tr>\n",
       "      <th>4</th>\n",
       "      <td>0.0</td>\n",
       "      <td>193</td>\n",
       "      <td>193</td>\n",
       "      <td>4.80</td>\n",
       "      <td>2</td>\n",
       "      <td>0</td>\n",
       "    </tr>\n",
       "  </tbody>\n",
       "</table>\n",
       "</div>"
      ],
      "text/plain": [
       "   trip_distance  pulocationid  dolocationid  total_amount  weekday_num  \\\n",
       "0            1.2           238           239         11.27            2   \n",
       "1            1.2           239           238         12.30            2   \n",
       "2            0.6           238           238         10.80            2   \n",
       "3            0.8           238           151          8.16            2   \n",
       "4            0.0           193           193          4.80            2   \n",
       "\n",
       "   pickup_hour  \n",
       "0            0  \n",
       "1            0  \n",
       "2            0  \n",
       "3            0  \n",
       "4            0  "
      ]
     },
     "execution_count": 18,
     "metadata": {},
     "output_type": "execute_result"
    }
   ],
   "source": [
    "ML_fair_df.head()"
   ]
  },
  {
   "cell_type": "code",
   "execution_count": 19,
   "id": "2e3059cf",
   "metadata": {},
   "outputs": [
    {
     "data": {
      "text/plain": [
       "trip_distance    float64\n",
       "pulocationid       int64\n",
       "dolocationid       int64\n",
       "total_amount     float64\n",
       "weekday_num        int32\n",
       "pickup_hour        int32\n",
       "dtype: object"
      ]
     },
     "execution_count": 19,
     "metadata": {},
     "output_type": "execute_result"
    }
   ],
   "source": [
    "# Looking at the data types\n",
    "\n",
    "ML_fair_df.dtypes"
   ]
  },
  {
   "cell_type": "code",
   "execution_count": 20,
   "id": "0449a8e0",
   "metadata": {},
   "outputs": [],
   "source": [
    "#Spliting the data into test and train\n",
    "# We are going to use trip distance, PULocationID, DOLocationID, Weekday number and Pickup Hour as the feature elements to predict Taxi fares\n",
    "# passenger_count,PULocationID,DOLocationID,weekday_num,pickup_hour\n",
    "x = ML_fair_df.iloc[:, [0,1,2,4,5]].values\n",
    "y = ML_fair_df.iloc[:,3].values\n",
    "x_train, x_test, y_train, y_test = train_test_split(x, y, test_size=0.2,random_state = 7294)"
   ]
  },
  {
   "cell_type": "code",
   "execution_count": 21,
   "id": "89cac65c",
   "metadata": {},
   "outputs": [
    {
     "data": {
      "image/png": "[encoded data removed]",
      "text/plain": [
       "<Figure size 640x480 with 1 Axes>"
      ]
     },
     "metadata": {},
     "output_type": "display_data"
    }
   ],
   "source": [
    "# Uisng PCA to determine necessary number of components for the model to yeild a better result\n",
    "\n",
    "from sklearn.decomposition import PCA\n",
    "pca = PCA().fit(x_train)\n",
    "plt.plot(np.cumsum(pca.explained_variance_ratio_))\n",
    "plt.xlabel(\"number of components\")\n",
    "plt.ylabel(\"Cumulative explained variance\")\n",
    "plt.show()"
   ]
  },
  {
   "cell_type": "code",
   "execution_count": 22,
   "id": "75d3bd06",
   "metadata": {},
   "outputs": [
    {
     "data": {
      "text/plain": [
       "[(1, 55.66),\n",
       " (2, 99.41999999999999),\n",
       " (3, 99.80999999999999),\n",
       " (4, 99.96999999999998)]"
      ]
     },
     "execution_count": 22,
     "metadata": {},
     "output_type": "execute_result"
    }
   ],
   "source": [
    "arr = np.cumsum(np.round(pca.explained_variance_ratio_, decimals=4)*100)\n",
    "list(zip(range(1,len(arr)), arr))"
   ]
  },
  {
   "cell_type": "code",
   "execution_count": 23,
   "id": "3a0fe31b",
   "metadata": {},
   "outputs": [
    {
     "data": {
      "image/png": "[encoded data removed]",
      "text/plain": [
       "<Figure size 1200x1200 with 2 Axes>"
      ]
     },
     "metadata": {},
     "output_type": "display_data"
    }
   ],
   "source": [
    "# Plotting the heatmap to understand the correlation between the factors\n",
    "\n",
    "plt.figure(figsize=(12,12))\n",
    "corr = pd.DataFrame(x_train[:,0:]).corr()\n",
    "corr.index = pd.DataFrame(x_train[:,0:]).columns\n",
    "sns.heatmap(corr, cmap='RdYlGn', vmin=-1, vmax=1, square=True)\n",
    "plt.title(\"Correlation Heatmap\", fontsize=16)\n",
    "plt.show()"
   ]
  },
  {
   "cell_type": "code",
   "execution_count": 24,
   "id": "0f111876",
   "metadata": {},
   "outputs": [
    {
     "name": "stdout",
     "output_type": "stream",
     "text": [
      "Time taken to train linear regression model : 0.23619866371154785 seconds\n"
     ]
    }
   ],
   "source": [
    "# Running The Linear regression model\n",
    "\n",
    "start_time = time.time()\n",
    "lm_regression = LinearRegression()\n",
    "lm_regression = lm_regression.fit(x_train, y_train)\n",
    "end_time = time.time()\n",
    "lm_time = (end_time - start_time)\n",
    "print(f\"Time taken to train linear regression model : {lm_time} seconds\")"
   ]
  },
  {
   "cell_type": "code",
   "execution_count": 25,
   "id": "8c8f7d3d",
   "metadata": {},
   "outputs": [
    {
     "data": {
      "text/html": [
       "<div>\n",
       "<style scoped>\n",
       "    .dataframe tbody tr th:only-of-type {\n",
       "        vertical-align: middle;\n",
       "    }\n",
       "\n",
       "    .dataframe tbody tr th {\n",
       "        vertical-align: top;\n",
       "    }\n",
       "\n",
       "    .dataframe thead th {\n",
       "        text-align: right;\n",
       "    }\n",
       "</style>\n",
       "<table border=\"1\" class=\"dataframe\">\n",
       "  <thead>\n",
       "    <tr style=\"text-align: right;\">\n",
       "      <th></th>\n",
       "      <th>Actual</th>\n",
       "      <th>Predicted</th>\n",
       "    </tr>\n",
       "  </thead>\n",
       "  <tbody>\n",
       "    <tr>\n",
       "      <th>0</th>\n",
       "      <td>39.80</td>\n",
       "      <td>51.431246</td>\n",
       "    </tr>\n",
       "    <tr>\n",
       "      <th>1</th>\n",
       "      <td>61.42</td>\n",
       "      <td>65.095562</td>\n",
       "    </tr>\n",
       "    <tr>\n",
       "      <th>2</th>\n",
       "      <td>18.30</td>\n",
       "      <td>16.498563</td>\n",
       "    </tr>\n",
       "    <tr>\n",
       "      <th>3</th>\n",
       "      <td>15.80</td>\n",
       "      <td>16.443691</td>\n",
       "    </tr>\n",
       "    <tr>\n",
       "      <th>4</th>\n",
       "      <td>11.00</td>\n",
       "      <td>12.703023</td>\n",
       "    </tr>\n",
       "    <tr>\n",
       "      <th>...</th>\n",
       "      <td>...</td>\n",
       "      <td>...</td>\n",
       "    </tr>\n",
       "    <tr>\n",
       "      <th>390837</th>\n",
       "      <td>7.80</td>\n",
       "      <td>9.925109</td>\n",
       "    </tr>\n",
       "    <tr>\n",
       "      <th>390838</th>\n",
       "      <td>12.80</td>\n",
       "      <td>13.774162</td>\n",
       "    </tr>\n",
       "    <tr>\n",
       "      <th>390839</th>\n",
       "      <td>18.96</td>\n",
       "      <td>16.042524</td>\n",
       "    </tr>\n",
       "    <tr>\n",
       "      <th>390840</th>\n",
       "      <td>34.90</td>\n",
       "      <td>26.927718</td>\n",
       "    </tr>\n",
       "    <tr>\n",
       "      <th>390841</th>\n",
       "      <td>12.96</td>\n",
       "      <td>14.523296</td>\n",
       "    </tr>\n",
       "  </tbody>\n",
       "</table>\n",
       "<p>390842 rows × 2 columns</p>\n",
       "</div>"
      ],
      "text/plain": [
       "        Actual  Predicted\n",
       "0        39.80  51.431246\n",
       "1        61.42  65.095562\n",
       "2        18.30  16.498563\n",
       "3        15.80  16.443691\n",
       "4        11.00  12.703023\n",
       "...        ...        ...\n",
       "390837    7.80   9.925109\n",
       "390838   12.80  13.774162\n",
       "390839   18.96  16.042524\n",
       "390840   34.90  26.927718\n",
       "390841   12.96  14.523296\n",
       "\n",
       "[390842 rows x 2 columns]"
      ]
     },
     "execution_count": 25,
     "metadata": {},
     "output_type": "execute_result"
    }
   ],
   "source": [
    "lm_regression_trips = lm_regression.predict(x_test)\n",
    "# Generating prediction for Linear Regression model\n",
    "\n",
    "predictions = pd.DataFrame({'Actual': y_test.flatten(), 'Predicted': lm_regression_trips.flatten()})\n",
    "predictions"
   ]
  },
  {
   "cell_type": "code",
   "execution_count": 26,
   "id": "84ff4538",
   "metadata": {},
   "outputs": [
    {
     "data": {
      "image/png": "[encoded data removed]",
      "text/plain": [
       "<Figure size 1400x800 with 1 Axes>"
      ]
     },
     "metadata": {},
     "output_type": "display_data"
    }
   ],
   "source": [
    "#Plotting Actuall vs Predicted Values\n",
    "\n",
    "predictions.sample(20).plot(kind='bar',figsize=(14,8))\n",
    "plt.grid(which='major', linestyle='-', linewidth='0.5', color='green')\n",
    "plt.grid(which='minor', linestyle=':', linewidth='0.5', color='black')\n",
    "plt.show()"
   ]
  },
  {
   "cell_type": "code",
   "execution_count": 27,
   "id": "44dc9511",
   "metadata": {},
   "outputs": [
    {
     "name": "stdout",
     "output_type": "stream",
     "text": [
      "0.765761044999981\n"
     ]
    }
   ],
   "source": [
    "#Getting The R Squared Value\n",
    "\n",
    "lm_score = r2_score(y_test, lm_regression_trips)\n",
    "print(lm_score)"
   ]
  },
  {
   "cell_type": "code",
   "execution_count": 28,
   "id": "bdd8c9cc",
   "metadata": {},
   "outputs": [
    {
     "name": "stdout",
     "output_type": "stream",
     "text": [
      "Time taken to train Decision tree model : 13.068751335144043 seconds\n"
     ]
    }
   ],
   "source": [
    "# Running the Decision Tree Regressor\n",
    "\n",
    "start_time = time.time()\n",
    "dt_regression = DecisionTreeRegressor()\n",
    "dt_regression = dt_regression.fit(x_train, y_train)\n",
    "end_time = time.time()\n",
    "dt_time = (end_time - start_time)\n",
    "print(f\"Time taken to train Decision tree model : {dt_time} seconds\")"
   ]
  },
  {
   "cell_type": "code",
   "execution_count": 29,
   "id": "c2d0e191",
   "metadata": {},
   "outputs": [],
   "source": [
    "dt_regression_trips = dt_regression.predict(x_test)"
   ]
  },
  {
   "cell_type": "code",
   "execution_count": 30,
   "id": "b7af5a9e",
   "metadata": {},
   "outputs": [
    {
     "data": {
      "text/html": [
       "<div>\n",
       "<style scoped>\n",
       "    .dataframe tbody tr th:only-of-type {\n",
       "        vertical-align: middle;\n",
       "    }\n",
       "\n",
       "    .dataframe tbody tr th {\n",
       "        vertical-align: top;\n",
       "    }\n",
       "\n",
       "    .dataframe thead th {\n",
       "        text-align: right;\n",
       "    }\n",
       "</style>\n",
       "<table border=\"1\" class=\"dataframe\">\n",
       "  <thead>\n",
       "    <tr style=\"text-align: right;\">\n",
       "      <th></th>\n",
       "      <th>Actual</th>\n",
       "      <th>Predicted</th>\n",
       "    </tr>\n",
       "  </thead>\n",
       "  <tbody>\n",
       "    <tr>\n",
       "      <th>0</th>\n",
       "      <td>39.80</td>\n",
       "      <td>41.300000</td>\n",
       "    </tr>\n",
       "    <tr>\n",
       "      <th>1</th>\n",
       "      <td>61.42</td>\n",
       "      <td>69.596667</td>\n",
       "    </tr>\n",
       "    <tr>\n",
       "      <th>2</th>\n",
       "      <td>18.30</td>\n",
       "      <td>20.760000</td>\n",
       "    </tr>\n",
       "    <tr>\n",
       "      <th>3</th>\n",
       "      <td>15.80</td>\n",
       "      <td>17.150000</td>\n",
       "    </tr>\n",
       "    <tr>\n",
       "      <th>4</th>\n",
       "      <td>11.00</td>\n",
       "      <td>11.760000</td>\n",
       "    </tr>\n",
       "    <tr>\n",
       "      <th>...</th>\n",
       "      <td>...</td>\n",
       "      <td>...</td>\n",
       "    </tr>\n",
       "    <tr>\n",
       "      <th>390837</th>\n",
       "      <td>7.80</td>\n",
       "      <td>7.300000</td>\n",
       "    </tr>\n",
       "    <tr>\n",
       "      <th>390838</th>\n",
       "      <td>12.80</td>\n",
       "      <td>11.300000</td>\n",
       "    </tr>\n",
       "    <tr>\n",
       "      <th>390839</th>\n",
       "      <td>18.96</td>\n",
       "      <td>18.300000</td>\n",
       "    </tr>\n",
       "    <tr>\n",
       "      <th>390840</th>\n",
       "      <td>34.90</td>\n",
       "      <td>34.750000</td>\n",
       "    </tr>\n",
       "    <tr>\n",
       "      <th>390841</th>\n",
       "      <td>12.96</td>\n",
       "      <td>12.300000</td>\n",
       "    </tr>\n",
       "  </tbody>\n",
       "</table>\n",
       "<p>390842 rows × 2 columns</p>\n",
       "</div>"
      ],
      "text/plain": [
       "        Actual  Predicted\n",
       "0        39.80  41.300000\n",
       "1        61.42  69.596667\n",
       "2        18.30  20.760000\n",
       "3        15.80  17.150000\n",
       "4        11.00  11.760000\n",
       "...        ...        ...\n",
       "390837    7.80   7.300000\n",
       "390838   12.80  11.300000\n",
       "390839   18.96  18.300000\n",
       "390840   34.90  34.750000\n",
       "390841   12.96  12.300000\n",
       "\n",
       "[390842 rows x 2 columns]"
      ]
     },
     "execution_count": 30,
     "metadata": {},
     "output_type": "execute_result"
    }
   ],
   "source": [
    "# Generating prediction for Decission Tree Regressor model\n",
    "\n",
    "predictions = pd.DataFrame({'Actual': y_test.flatten(), 'Predicted': dt_regression_trips.flatten()})\n",
    "predictions"
   ]
  },
  {
   "cell_type": "code",
   "execution_count": 31,
   "id": "f1c14e92",
   "metadata": {},
   "outputs": [
    {
     "data": {
      "image/png": "[encoded data removed]",
      "text/plain": [
       "<Figure size 1400x800 with 1 Axes>"
      ]
     },
     "metadata": {},
     "output_type": "display_data"
    }
   ],
   "source": [
    "predictions.sample(20).plot(kind='bar',figsize=(14,8))\n",
    "plt.grid(which='major', linestyle='-', linewidth='0.5', color='green')\n",
    "plt.grid(which='minor', linestyle=':', linewidth='0.5', color='black')\n",
    "plt.show()"
   ]
  },
  {
   "cell_type": "code",
   "execution_count": 32,
   "id": "d1f90e14",
   "metadata": {},
   "outputs": [
    {
     "name": "stdout",
     "output_type": "stream",
     "text": [
      "0.7237176347133729\n"
     ]
    }
   ],
   "source": [
    "#Getting The R Squared Value\n",
    "\n",
    "dt_score = r2_score(y_test, dt_regression_trips)\n",
    "print(dt_score)"
   ]
  },
  {
   "cell_type": "code",
   "execution_count": 33,
   "id": "be7e5963",
   "metadata": {},
   "outputs": [
    {
     "name": "stdout",
     "output_type": "stream",
     "text": [
      "Time taken to train AdaBoost model : 66.86594271659851 seconds\n"
     ]
    }
   ],
   "source": [
    "# Running The AdaBoostRegressor model\n",
    "\n",
    "start_time = time.time()\n",
    "ada_regression = AdaBoostRegressor()\n",
    "ada_regression = ada_regression.fit(x_train, y_train)\n",
    "end_time = time.time()\n",
    "ad_time = (end_time - start_time)\n",
    "print(f\"Time taken to train AdaBoost model : {ad_time} seconds\")"
   ]
  },
  {
   "cell_type": "code",
   "execution_count": 34,
   "id": "3d5c1eed",
   "metadata": {},
   "outputs": [],
   "source": [
    "ada_trips = ada_regression.predict(x_test)"
   ]
  },
  {
   "cell_type": "code",
   "execution_count": 35,
   "id": "e99ff696",
   "metadata": {},
   "outputs": [
    {
     "data": {
      "text/html": [
       "<div>\n",
       "<style scoped>\n",
       "    .dataframe tbody tr th:only-of-type {\n",
       "        vertical-align: middle;\n",
       "    }\n",
       "\n",
       "    .dataframe tbody tr th {\n",
       "        vertical-align: top;\n",
       "    }\n",
       "\n",
       "    .dataframe thead th {\n",
       "        text-align: right;\n",
       "    }\n",
       "</style>\n",
       "<table border=\"1\" class=\"dataframe\">\n",
       "  <thead>\n",
       "    <tr style=\"text-align: right;\">\n",
       "      <th></th>\n",
       "      <th>Actual</th>\n",
       "      <th>Predicted</th>\n",
       "    </tr>\n",
       "  </thead>\n",
       "  <tbody>\n",
       "    <tr>\n",
       "      <th>0</th>\n",
       "      <td>39.80</td>\n",
       "      <td>51.109587</td>\n",
       "    </tr>\n",
       "    <tr>\n",
       "      <th>1</th>\n",
       "      <td>61.42</td>\n",
       "      <td>76.207905</td>\n",
       "    </tr>\n",
       "    <tr>\n",
       "      <th>2</th>\n",
       "      <td>18.30</td>\n",
       "      <td>24.522409</td>\n",
       "    </tr>\n",
       "    <tr>\n",
       "      <th>3</th>\n",
       "      <td>15.80</td>\n",
       "      <td>21.183352</td>\n",
       "    </tr>\n",
       "    <tr>\n",
       "      <th>4</th>\n",
       "      <td>11.00</td>\n",
       "      <td>21.183352</td>\n",
       "    </tr>\n",
       "    <tr>\n",
       "      <th>...</th>\n",
       "      <td>...</td>\n",
       "      <td>...</td>\n",
       "    </tr>\n",
       "    <tr>\n",
       "      <th>390837</th>\n",
       "      <td>7.80</td>\n",
       "      <td>24.975649</td>\n",
       "    </tr>\n",
       "    <tr>\n",
       "      <th>390838</th>\n",
       "      <td>12.80</td>\n",
       "      <td>27.149519</td>\n",
       "    </tr>\n",
       "    <tr>\n",
       "      <th>390839</th>\n",
       "      <td>18.96</td>\n",
       "      <td>19.004254</td>\n",
       "    </tr>\n",
       "    <tr>\n",
       "      <th>390840</th>\n",
       "      <td>34.90</td>\n",
       "      <td>30.646608</td>\n",
       "    </tr>\n",
       "    <tr>\n",
       "      <th>390841</th>\n",
       "      <td>12.96</td>\n",
       "      <td>27.146166</td>\n",
       "    </tr>\n",
       "  </tbody>\n",
       "</table>\n",
       "<p>390842 rows × 2 columns</p>\n",
       "</div>"
      ],
      "text/plain": [
       "        Actual  Predicted\n",
       "0        39.80  51.109587\n",
       "1        61.42  76.207905\n",
       "2        18.30  24.522409\n",
       "3        15.80  21.183352\n",
       "4        11.00  21.183352\n",
       "...        ...        ...\n",
       "390837    7.80  24.975649\n",
       "390838   12.80  27.149519\n",
       "390839   18.96  19.004254\n",
       "390840   34.90  30.646608\n",
       "390841   12.96  27.146166\n",
       "\n",
       "[390842 rows x 2 columns]"
      ]
     },
     "execution_count": 35,
     "metadata": {},
     "output_type": "execute_result"
    }
   ],
   "source": [
    "predictions = pd.DataFrame({'Actual': y_test.flatten(), 'Predicted': ada_trips.flatten()})\n",
    "predictions"
   ]
  },
  {
   "cell_type": "code",
   "execution_count": 36,
   "id": "27944d89",
   "metadata": {},
   "outputs": [
    {
     "data": {
      "image/png": "[encoded data removed]",
      "text/plain": [
       "<Figure size 1400x800 with 1 Axes>"
      ]
     },
     "metadata": {},
     "output_type": "display_data"
    }
   ],
   "source": [
    "predictions.sample(20).plot(kind='bar',figsize=(14,8))\n",
    "plt.grid(which='major', linestyle='-', linewidth='0.5', color='green')\n",
    "plt.grid(which='minor', linestyle=':', linewidth='0.5', color='black')\n",
    "plt.show()"
   ]
  },
  {
   "cell_type": "code",
   "execution_count": 37,
   "id": "20f96896",
   "metadata": {},
   "outputs": [
    {
     "name": "stdout",
     "output_type": "stream",
     "text": [
      "-1.0023248263291888\n"
     ]
    }
   ],
   "source": [
    "#Getting The R Squared Value\n",
    "\n",
    "ad_score = r2_score(y_test, ada_trips)\n",
    "print(ad_score)"
   ]
  },
  {
   "cell_type": "code",
   "execution_count": 38,
   "id": "7873da68",
   "metadata": {},
   "outputs": [
    {
     "name": "stdout",
     "output_type": "stream",
     "text": [
      "Time taken to train Gradient Boost model : 166.75056624412537 seconds\n"
     ]
    }
   ],
   "source": [
    "# Running The GradientBoostRegressor model\n",
    "\n",
    "start_time = time.time()\n",
    "gd_regression = GradientBoostingRegressor()\n",
    "gd_regression = gd_regression.fit(x_train, y_train)\n",
    "end_time = time.time()\n",
    "gd_time = (end_time - start_time)\n",
    "print(f\"Time taken to train Gradient Boost model : {gd_time} seconds\")"
   ]
  },
  {
   "cell_type": "code",
   "execution_count": 39,
   "id": "eb042708",
   "metadata": {},
   "outputs": [],
   "source": [
    "gd_trips = gd_regression.predict(x_test)"
   ]
  },
  {
   "cell_type": "code",
   "execution_count": 40,
   "id": "a8df10dd",
   "metadata": {},
   "outputs": [
    {
     "data": {
      "text/html": [
       "<div>\n",
       "<style scoped>\n",
       "    .dataframe tbody tr th:only-of-type {\n",
       "        vertical-align: middle;\n",
       "    }\n",
       "\n",
       "    .dataframe tbody tr th {\n",
       "        vertical-align: top;\n",
       "    }\n",
       "\n",
       "    .dataframe thead th {\n",
       "        text-align: right;\n",
       "    }\n",
       "</style>\n",
       "<table border=\"1\" class=\"dataframe\">\n",
       "  <thead>\n",
       "    <tr style=\"text-align: right;\">\n",
       "      <th></th>\n",
       "      <th>Actual</th>\n",
       "      <th>Predicted</th>\n",
       "    </tr>\n",
       "  </thead>\n",
       "  <tbody>\n",
       "    <tr>\n",
       "      <th>0</th>\n",
       "      <td>39.80</td>\n",
       "      <td>50.034449</td>\n",
       "    </tr>\n",
       "    <tr>\n",
       "      <th>1</th>\n",
       "      <td>61.42</td>\n",
       "      <td>70.286688</td>\n",
       "    </tr>\n",
       "    <tr>\n",
       "      <th>2</th>\n",
       "      <td>18.30</td>\n",
       "      <td>17.370795</td>\n",
       "    </tr>\n",
       "    <tr>\n",
       "      <th>3</th>\n",
       "      <td>15.80</td>\n",
       "      <td>16.804714</td>\n",
       "    </tr>\n",
       "    <tr>\n",
       "      <th>4</th>\n",
       "      <td>11.00</td>\n",
       "      <td>12.083754</td>\n",
       "    </tr>\n",
       "    <tr>\n",
       "      <th>...</th>\n",
       "      <td>...</td>\n",
       "      <td>...</td>\n",
       "    </tr>\n",
       "    <tr>\n",
       "      <th>390837</th>\n",
       "      <td>7.80</td>\n",
       "      <td>9.360428</td>\n",
       "    </tr>\n",
       "    <tr>\n",
       "      <th>390838</th>\n",
       "      <td>12.80</td>\n",
       "      <td>13.594609</td>\n",
       "    </tr>\n",
       "    <tr>\n",
       "      <th>390839</th>\n",
       "      <td>18.96</td>\n",
       "      <td>16.690903</td>\n",
       "    </tr>\n",
       "    <tr>\n",
       "      <th>390840</th>\n",
       "      <td>34.90</td>\n",
       "      <td>25.199804</td>\n",
       "    </tr>\n",
       "    <tr>\n",
       "      <th>390841</th>\n",
       "      <td>12.96</td>\n",
       "      <td>14.864184</td>\n",
       "    </tr>\n",
       "  </tbody>\n",
       "</table>\n",
       "<p>390842 rows × 2 columns</p>\n",
       "</div>"
      ],
      "text/plain": [
       "        Actual  Predicted\n",
       "0        39.80  50.034449\n",
       "1        61.42  70.286688\n",
       "2        18.30  17.370795\n",
       "3        15.80  16.804714\n",
       "4        11.00  12.083754\n",
       "...        ...        ...\n",
       "390837    7.80   9.360428\n",
       "390838   12.80  13.594609\n",
       "390839   18.96  16.690903\n",
       "390840   34.90  25.199804\n",
       "390841   12.96  14.864184\n",
       "\n",
       "[390842 rows x 2 columns]"
      ]
     },
     "execution_count": 40,
     "metadata": {},
     "output_type": "execute_result"
    }
   ],
   "source": [
    "predictions = pd.DataFrame({'Actual': y_test.flatten(), 'Predicted': gd_trips.flatten()})\n",
    "predictions"
   ]
  },
  {
   "cell_type": "code",
   "execution_count": 41,
   "id": "2f8e788b",
   "metadata": {},
   "outputs": [
    {
     "data": {
      "image/png": "[encoded data removed]",
      "text/plain": [
       "<Figure size 1400x800 with 1 Axes>"
      ]
     },
     "metadata": {},
     "output_type": "display_data"
    }
   ],
   "source": [
    "predictions.sample(20).plot(kind='bar',figsize=(14,8))\n",
    "plt.grid(which='major', linestyle='-', linewidth='0.5', color='green')\n",
    "plt.grid(which='minor', linestyle=':', linewidth='0.5', color='black')\n",
    "plt.show()"
   ]
  },
  {
   "cell_type": "code",
   "execution_count": 42,
   "id": "dc45f1f7",
   "metadata": {},
   "outputs": [
    {
     "name": "stdout",
     "output_type": "stream",
     "text": [
      "0.8421108029366974\n"
     ]
    }
   ],
   "source": [
    "#Getting The R Squared Value\n",
    "\n",
    "gd_score = r2_score(y_test, gd_trips)\n",
    "print(gd_score)"
   ]
  },
  {
   "cell_type": "code",
   "execution_count": 43,
   "id": "30b332db",
   "metadata": {},
   "outputs": [
    {
     "name": "stdout",
     "output_type": "stream",
     "text": [
      "Time taken to train XGBoost  model : 8.140982151031494 seconds\n"
     ]
    }
   ],
   "source": [
    "# Running The XGBRegressor model\n",
    "\n",
    "start_time = time.time()\n",
    "xgb_regression = XGBRegressor(objective ='reg:squarederror')\n",
    "xgb_regression = xgb_regression.fit(x_train, y_train)\n",
    "end_time = time.time()\n",
    "xgb_time = (end_time - start_time)\n",
    "print(f\"Time taken to train XGBoost  model : {xgb_time} seconds\")"
   ]
  },
  {
   "cell_type": "code",
   "execution_count": 44,
   "id": "602040e7",
   "metadata": {},
   "outputs": [],
   "source": [
    "XGB_trips = xgb_regression.predict(x_test)"
   ]
  },
  {
   "cell_type": "code",
   "execution_count": 45,
   "id": "e90b5e14",
   "metadata": {},
   "outputs": [
    {
     "data": {
      "text/html": [
       "<div>\n",
       "<style scoped>\n",
       "    .dataframe tbody tr th:only-of-type {\n",
       "        vertical-align: middle;\n",
       "    }\n",
       "\n",
       "    .dataframe tbody tr th {\n",
       "        vertical-align: top;\n",
       "    }\n",
       "\n",
       "    .dataframe thead th {\n",
       "        text-align: right;\n",
       "    }\n",
       "</style>\n",
       "<table border=\"1\" class=\"dataframe\">\n",
       "  <thead>\n",
       "    <tr style=\"text-align: right;\">\n",
       "      <th></th>\n",
       "      <th>Actual</th>\n",
       "      <th>Predicted</th>\n",
       "    </tr>\n",
       "  </thead>\n",
       "  <tbody>\n",
       "    <tr>\n",
       "      <th>0</th>\n",
       "      <td>39.80</td>\n",
       "      <td>45.945568</td>\n",
       "    </tr>\n",
       "    <tr>\n",
       "      <th>1</th>\n",
       "      <td>61.42</td>\n",
       "      <td>68.974281</td>\n",
       "    </tr>\n",
       "    <tr>\n",
       "      <th>2</th>\n",
       "      <td>18.30</td>\n",
       "      <td>18.446838</td>\n",
       "    </tr>\n",
       "    <tr>\n",
       "      <th>3</th>\n",
       "      <td>15.80</td>\n",
       "      <td>16.418720</td>\n",
       "    </tr>\n",
       "    <tr>\n",
       "      <th>4</th>\n",
       "      <td>11.00</td>\n",
       "      <td>11.842456</td>\n",
       "    </tr>\n",
       "    <tr>\n",
       "      <th>...</th>\n",
       "      <td>...</td>\n",
       "      <td>...</td>\n",
       "    </tr>\n",
       "    <tr>\n",
       "      <th>390837</th>\n",
       "      <td>7.80</td>\n",
       "      <td>9.291968</td>\n",
       "    </tr>\n",
       "    <tr>\n",
       "      <th>390838</th>\n",
       "      <td>12.80</td>\n",
       "      <td>13.190619</td>\n",
       "    </tr>\n",
       "    <tr>\n",
       "      <th>390839</th>\n",
       "      <td>18.96</td>\n",
       "      <td>17.412119</td>\n",
       "    </tr>\n",
       "    <tr>\n",
       "      <th>390840</th>\n",
       "      <td>34.90</td>\n",
       "      <td>26.556601</td>\n",
       "    </tr>\n",
       "    <tr>\n",
       "      <th>390841</th>\n",
       "      <td>12.96</td>\n",
       "      <td>14.406349</td>\n",
       "    </tr>\n",
       "  </tbody>\n",
       "</table>\n",
       "<p>390842 rows × 2 columns</p>\n",
       "</div>"
      ],
      "text/plain": [
       "        Actual  Predicted\n",
       "0        39.80  45.945568\n",
       "1        61.42  68.974281\n",
       "2        18.30  18.446838\n",
       "3        15.80  16.418720\n",
       "4        11.00  11.842456\n",
       "...        ...        ...\n",
       "390837    7.80   9.291968\n",
       "390838   12.80  13.190619\n",
       "390839   18.96  17.412119\n",
       "390840   34.90  26.556601\n",
       "390841   12.96  14.406349\n",
       "\n",
       "[390842 rows x 2 columns]"
      ]
     },
     "execution_count": 45,
     "metadata": {},
     "output_type": "execute_result"
    }
   ],
   "source": [
    "predictions = pd.DataFrame({'Actual': y_test.flatten(), 'Predicted': XGB_trips.flatten()})\n",
    "predictions"
   ]
  },
  {
   "cell_type": "code",
   "execution_count": 46,
   "id": "518ff9a1",
   "metadata": {},
   "outputs": [
    {
     "data": {
      "image/png": "[encoded data removed]",
      "text/plain": [
       "<Figure size 1400x800 with 1 Axes>"
      ]
     },
     "metadata": {},
     "output_type": "display_data"
    }
   ],
   "source": [
    "predictions.sample(20).plot(kind='bar',figsize=(14,8))\n",
    "plt.grid(which='major', linestyle='-', linewidth='0.5', color='green')\n",
    "plt.grid(which='minor', linestyle=':', linewidth='0.5', color='black')\n",
    "plt.show()"
   ]
  },
  {
   "cell_type": "code",
   "execution_count": 47,
   "id": "9292c64d",
   "metadata": {},
   "outputs": [
    {
     "name": "stdout",
     "output_type": "stream",
     "text": [
      "0.8486834723986569\n"
     ]
    }
   ],
   "source": [
    "#Getting The R Squared Value\n",
    "\n",
    "xgb_score = r2_score(y_test, XGB_trips)\n",
    "print(xgb_score)"
   ]
  },
  {
   "cell_type": "code",
   "execution_count": 48,
   "id": "f9e2e3ff",
   "metadata": {},
   "outputs": [],
   "source": [
    "# Creating Accuracy and Time Dataframe\n",
    "\n",
    "#r2 = [lm_score, dt_score, ad_score, gd_score, xgb_score]\n",
    "#tm = [lm_time, dt_time, ad_time, gd_time, xgb_time]\n",
    "#comp = pd.DataFrame({'Time': tm, 'Accu': r2})\n",
    "\n",
    "r2 = [lm_score, dt_score, gd_score, xgb_score]\n",
    "tm = [lm_time, dt_time, gd_time, xgb_time]\n",
    "comp = pd.DataFrame({'Time': tm, 'Accu': r2})"
   ]
  },
  {
   "cell_type": "code",
   "execution_count": 49,
   "id": "1c985b88",
   "metadata": {},
   "outputs": [
    {
     "data": {
      "image/png": "[encoded data removed]",
      "text/plain": [
       "<Figure size 1200x500 with 2 Axes>"
      ]
     },
     "metadata": {},
     "output_type": "display_data"
    }
   ],
   "source": [
    "# Comparing All models based on time taken to implement and Accuracy\n",
    "\n",
    "label = ['LM', 'DT', 'GDB', 'XGB']\n",
    "fig, axes = plt.subplots(nrows=1, ncols=2,figsize=(12,5))\n",
    "ax = comp['Time'].plot(kind='bar',title=\"Time\",ax=axes[0],color = (1, 0.5, 0.13))\n",
    "ax1 = comp['Accu'].plot(kind='bar',title=\"Accuarcy\",ax=axes[1])\n",
    "ax.set_ylabel(\"Time (secs)\")\n",
    "ax.set_xlabel('Models')\n",
    "ax.set_xticklabels(label)\n",
    "ax1.set_ylabel(\"Accuracy\")\n",
    "ax1.set_xlabel('Models')\n",
    "ax1.set_xticklabels(label)\n",
    "fig.tight_layout()"
   ]
  },
  {
   "cell_type": "code",
   "execution_count": 50,
   "id": "b9897f63",
   "metadata": {},
   "outputs": [
    {
     "name": "stdout",
     "output_type": "stream",
     "text": [
      "Your estimated fare is $ 12.42\n"
     ]
    }
   ],
   "source": [
    "Distance = 1.9\n",
    "PULocationID = 138\n",
    "DOLocationID = 7\n",
    "WeekDay = 6\n",
    "Hour = 7\n",
    "\n",
    "answer = xgb_regression.predict([[Distance,PULocationID,DOLocationID,WeekDay,Hour]])\n",
    "predicted_fare = [\"%.2f\"% elem for elem in answer]\n",
    "\n",
    "if PULocationID == 132:\n",
    "    predictedfare = float(predicted_fare[0])\n",
    "    fare= predictedfare + 1.25\n",
    "    print(f'Your estimated fare is $',fare)\n",
    "elif PULocationID == 138:\n",
    "    predictedfare = float(predicted_fare[0])\n",
    "    fare= predictedfare + 1.25\n",
    "    print(f'Your estimated fare is $',fare)\n",
    "else:\n",
    "    print(f'Your estimated fare is $',predicted_fare[0])\n",
    "\n"
   ]
  },
  {
   "cell_type": "code",
   "execution_count": 51,
   "id": "640dcbac",
   "metadata": {},
   "outputs": [
    {
     "data": {
      "text/html": [
       "<div>\n",
       "<style scoped>\n",
       "    .dataframe tbody tr th:only-of-type {\n",
       "        vertical-align: middle;\n",
       "    }\n",
       "\n",
       "    .dataframe tbody tr th {\n",
       "        vertical-align: top;\n",
       "    }\n",
       "\n",
       "    .dataframe thead th {\n",
       "        text-align: right;\n",
       "    }\n",
       "</style>\n",
       "<table border=\"1\" class=\"dataframe\">\n",
       "  <thead>\n",
       "    <tr style=\"text-align: right;\">\n",
       "      <th></th>\n",
       "      <th>LocationID</th>\n",
       "      <th>Borough</th>\n",
       "      <th>Zone</th>\n",
       "      <th>service_zone</th>\n",
       "    </tr>\n",
       "  </thead>\n",
       "  <tbody>\n",
       "    <tr>\n",
       "      <th>0</th>\n",
       "      <td>1</td>\n",
       "      <td>EWR</td>\n",
       "      <td>Newark Airport</td>\n",
       "      <td>EWR</td>\n",
       "    </tr>\n",
       "    <tr>\n",
       "      <th>1</th>\n",
       "      <td>2</td>\n",
       "      <td>Queens</td>\n",
       "      <td>Jamaica Bay</td>\n",
       "      <td>Boro Zone</td>\n",
       "    </tr>\n",
       "    <tr>\n",
       "      <th>2</th>\n",
       "      <td>3</td>\n",
       "      <td>Bronx</td>\n",
       "      <td>Allerton/Pelham Gardens</td>\n",
       "      <td>Boro Zone</td>\n",
       "    </tr>\n",
       "    <tr>\n",
       "      <th>3</th>\n",
       "      <td>4</td>\n",
       "      <td>Manhattan</td>\n",
       "      <td>Alphabet City</td>\n",
       "      <td>Yellow Zone</td>\n",
       "    </tr>\n",
       "    <tr>\n",
       "      <th>4</th>\n",
       "      <td>5</td>\n",
       "      <td>Staten Island</td>\n",
       "      <td>Arden Heights</td>\n",
       "      <td>Boro Zone</td>\n",
       "    </tr>\n",
       "    <tr>\n",
       "      <th>...</th>\n",
       "      <td>...</td>\n",
       "      <td>...</td>\n",
       "      <td>...</td>\n",
       "      <td>...</td>\n",
       "    </tr>\n",
       "    <tr>\n",
       "      <th>260</th>\n",
       "      <td>261</td>\n",
       "      <td>Manhattan</td>\n",
       "      <td>World Trade Center</td>\n",
       "      <td>Yellow Zone</td>\n",
       "    </tr>\n",
       "    <tr>\n",
       "      <th>261</th>\n",
       "      <td>262</td>\n",
       "      <td>Manhattan</td>\n",
       "      <td>Yorkville East</td>\n",
       "      <td>Yellow Zone</td>\n",
       "    </tr>\n",
       "    <tr>\n",
       "      <th>262</th>\n",
       "      <td>263</td>\n",
       "      <td>Manhattan</td>\n",
       "      <td>Yorkville West</td>\n",
       "      <td>Yellow Zone</td>\n",
       "    </tr>\n",
       "    <tr>\n",
       "      <th>263</th>\n",
       "      <td>264</td>\n",
       "      <td>Unknown</td>\n",
       "      <td>NV</td>\n",
       "      <td>NaN</td>\n",
       "    </tr>\n",
       "    <tr>\n",
       "      <th>264</th>\n",
       "      <td>265</td>\n",
       "      <td>Unknown</td>\n",
       "      <td>NaN</td>\n",
       "      <td>NaN</td>\n",
       "    </tr>\n",
       "  </tbody>\n",
       "</table>\n",
       "<p>265 rows × 4 columns</p>\n",
       "</div>"
      ],
      "text/plain": [
       "     LocationID        Borough                     Zone service_zone\n",
       "0             1            EWR           Newark Airport          EWR\n",
       "1             2         Queens              Jamaica Bay    Boro Zone\n",
       "2             3          Bronx  Allerton/Pelham Gardens    Boro Zone\n",
       "3             4      Manhattan            Alphabet City  Yellow Zone\n",
       "4             5  Staten Island            Arden Heights    Boro Zone\n",
       "..          ...            ...                      ...          ...\n",
       "260         261      Manhattan       World Trade Center  Yellow Zone\n",
       "261         262      Manhattan           Yorkville East  Yellow Zone\n",
       "262         263      Manhattan           Yorkville West  Yellow Zone\n",
       "263         264        Unknown                       NV          NaN\n",
       "264         265        Unknown                      NaN          NaN\n",
       "\n",
       "[265 rows x 4 columns]"
      ]
     },
     "execution_count": 51,
     "metadata": {},
     "output_type": "execute_result"
    }
   ],
   "source": [
    "data = pd.read_csv('https://d37ci6vzurychx.cloudfront.net/misc/taxi+_zone_lookup.csv')\n",
    "data"
   ]
  },
  {
   "cell_type": "code",
   "execution_count": 52,
   "id": "e1256105",
   "metadata": {},
   "outputs": [
    {
     "data": {
      "text/plain": [
       "LocationID      0\n",
       "Borough         0\n",
       "Zone            1\n",
       "service_zone    2\n",
       "dtype: int64"
      ]
     },
     "execution_count": 52,
     "metadata": {},
     "output_type": "execute_result"
    }
   ],
   "source": [
    "data.isnull().sum()"
   ]
  },
  {
   "cell_type": "code",
   "execution_count": 53,
   "id": "4180bd6a",
   "metadata": {},
   "outputs": [],
   "source": [
    "data = data.dropna()"
   ]
  },
  {
   "cell_type": "code",
   "execution_count": 54,
   "id": "33bdc4a8",
   "metadata": {},
   "outputs": [
    {
     "data": {
      "text/html": [
       "<div>\n",
       "<style scoped>\n",
       "    .dataframe tbody tr th:only-of-type {\n",
       "        vertical-align: middle;\n",
       "    }\n",
       "\n",
       "    .dataframe tbody tr th {\n",
       "        vertical-align: top;\n",
       "    }\n",
       "\n",
       "    .dataframe thead th {\n",
       "        text-align: right;\n",
       "    }\n",
       "</style>\n",
       "<table border=\"1\" class=\"dataframe\">\n",
       "  <thead>\n",
       "    <tr style=\"text-align: right;\">\n",
       "      <th></th>\n",
       "      <th>LocationID</th>\n",
       "      <th>Borough</th>\n",
       "      <th>Zone</th>\n",
       "      <th>service_zone</th>\n",
       "    </tr>\n",
       "  </thead>\n",
       "  <tbody>\n",
       "    <tr>\n",
       "      <th>0</th>\n",
       "      <td>1</td>\n",
       "      <td>EWR</td>\n",
       "      <td>Newark Airport</td>\n",
       "      <td>EWR</td>\n",
       "    </tr>\n",
       "    <tr>\n",
       "      <th>1</th>\n",
       "      <td>2</td>\n",
       "      <td>Queens</td>\n",
       "      <td>Jamaica Bay</td>\n",
       "      <td>Boro Zone</td>\n",
       "    </tr>\n",
       "    <tr>\n",
       "      <th>2</th>\n",
       "      <td>3</td>\n",
       "      <td>Bronx</td>\n",
       "      <td>Allerton/Pelham Gardens</td>\n",
       "      <td>Boro Zone</td>\n",
       "    </tr>\n",
       "    <tr>\n",
       "      <th>3</th>\n",
       "      <td>4</td>\n",
       "      <td>Manhattan</td>\n",
       "      <td>Alphabet City</td>\n",
       "      <td>Yellow Zone</td>\n",
       "    </tr>\n",
       "    <tr>\n",
       "      <th>4</th>\n",
       "      <td>5</td>\n",
       "      <td>Staten Island</td>\n",
       "      <td>Arden Heights</td>\n",
       "      <td>Boro Zone</td>\n",
       "    </tr>\n",
       "    <tr>\n",
       "      <th>...</th>\n",
       "      <td>...</td>\n",
       "      <td>...</td>\n",
       "      <td>...</td>\n",
       "      <td>...</td>\n",
       "    </tr>\n",
       "    <tr>\n",
       "      <th>258</th>\n",
       "      <td>259</td>\n",
       "      <td>Bronx</td>\n",
       "      <td>Woodlawn/Wakefield</td>\n",
       "      <td>Boro Zone</td>\n",
       "    </tr>\n",
       "    <tr>\n",
       "      <th>259</th>\n",
       "      <td>260</td>\n",
       "      <td>Queens</td>\n",
       "      <td>Woodside</td>\n",
       "      <td>Boro Zone</td>\n",
       "    </tr>\n",
       "    <tr>\n",
       "      <th>260</th>\n",
       "      <td>261</td>\n",
       "      <td>Manhattan</td>\n",
       "      <td>World Trade Center</td>\n",
       "      <td>Yellow Zone</td>\n",
       "    </tr>\n",
       "    <tr>\n",
       "      <th>261</th>\n",
       "      <td>262</td>\n",
       "      <td>Manhattan</td>\n",
       "      <td>Yorkville East</td>\n",
       "      <td>Yellow Zone</td>\n",
       "    </tr>\n",
       "    <tr>\n",
       "      <th>262</th>\n",
       "      <td>263</td>\n",
       "      <td>Manhattan</td>\n",
       "      <td>Yorkville West</td>\n",
       "      <td>Yellow Zone</td>\n",
       "    </tr>\n",
       "  </tbody>\n",
       "</table>\n",
       "<p>263 rows × 4 columns</p>\n",
       "</div>"
      ],
      "text/plain": [
       "     LocationID        Borough                     Zone service_zone\n",
       "0             1            EWR           Newark Airport          EWR\n",
       "1             2         Queens              Jamaica Bay    Boro Zone\n",
       "2             3          Bronx  Allerton/Pelham Gardens    Boro Zone\n",
       "3             4      Manhattan            Alphabet City  Yellow Zone\n",
       "4             5  Staten Island            Arden Heights    Boro Zone\n",
       "..          ...            ...                      ...          ...\n",
       "258         259          Bronx       Woodlawn/Wakefield    Boro Zone\n",
       "259         260         Queens                 Woodside    Boro Zone\n",
       "260         261      Manhattan       World Trade Center  Yellow Zone\n",
       "261         262      Manhattan           Yorkville East  Yellow Zone\n",
       "262         263      Manhattan           Yorkville West  Yellow Zone\n",
       "\n",
       "[263 rows x 4 columns]"
      ]
     },
     "execution_count": 54,
     "metadata": {},
     "output_type": "execute_result"
    }
   ],
   "source": [
    "data"
   ]
  },
  {
   "cell_type": "code",
   "execution_count": 55,
   "id": "d41eb423",
   "metadata": {},
   "outputs": [
    {
     "data": {
      "text/plain": [
       "'Astoria'"
      ]
     },
     "execution_count": 55,
     "metadata": {},
     "output_type": "execute_result"
    }
   ],
   "source": [
    "data.loc[data.LocationID == 7,'Zone'].values[0]"
   ]
  },
  {
   "cell_type": "code",
   "execution_count": 56,
   "id": "07b8b932",
   "metadata": {},
   "outputs": [
    {
     "name": "stdout",
     "output_type": "stream",
     "text": [
      "Your estimated fare is $ 12.42\n"
     ]
    }
   ],
   "source": [
    "Distance = 1.9\n",
    "PULocation = 'LaGuardia Airport'\n",
    "DOLocation = 'Astoria'\n",
    "WeekDay = 6\n",
    "Hour = 7\n",
    "\n",
    "PULocationID = data.loc[data.Zone == PULocation,'LocationID'].values[0]\n",
    "DOLocationID = data.loc[data.Zone == DOLocation,'LocationID'].values[0]\n",
    "\n",
    "\n",
    "answer = xgb_regression.predict([[Distance,PULocationID,DOLocationID,WeekDay,Hour]])\n",
    "predicted_fare = [\"%.2f\"% elem for elem in answer]\n",
    "\n",
    "if PULocationID == 132:\n",
    "    predictedfare = float(predicted_fare[0])\n",
    "    fare= predictedfare + 1.25\n",
    "    print(f'Your estimated fare is $',fare)\n",
    "elif PULocationID == 138:\n",
    "    predictedfare = float(predicted_fare[0])\n",
    "    fare= predictedfare + 1.25\n",
    "    print(f'Your estimated fare is $',fare)\n",
    "else:\n",
    "    print(f'Your estimated fare is $',predicted_fare[0])"
   ]
  },
  {
   "cell_type": "code",
   "execution_count": 58,
   "id": "16f2c455-7ad4-4cc6-8546-b312adf9a36e",
   "metadata": {},
   "outputs": [],
   "source": [
    "############################################# GUI for Fare Predictor #############################################\n",
    "\n",
    "def predict():\n",
    "    global Prediction_label\n",
    "    Prediction_label.pack_forget()\n",
    "    PULocation = PULocation_entry.get()\n",
    "    DOLocation = DOLocation_entry.get()\n",
    "    Distance = float(Distance_entry.get())\n",
    "    WeekDay = int(Weekday_entry.get())\n",
    "    Hour = int(Time_entry.get())\n",
    "    \n",
    "    print(type(PULocation))\n",
    "    print(type(DOLocation))\n",
    "    print(type(Distance))\n",
    "    print(type(WeekDay))\n",
    "    print(type(Hour))\n",
    "    \n",
    "    PULocationID = taxi_zone_df.loc[taxi_zone_df.Zone == PULocation,'LocationID'].values[0]\n",
    "    DOLocationID = taxi_zone_df.loc[taxi_zone_df.Zone == DOLocation,'LocationID'].values[0]\n",
    "    xgb_regression = XGBRegressor(objective ='reg:squarederror')\n",
    "    xgb_regression = xgb_regression.fit(x_train, y_train)\n",
    "    answer = xgb_regression.predict([[Distance,PULocationID,DOLocationID,WeekDay,Hour]])\n",
    "    predicted_fare = [\"%.2f\"% elem for elem in answer]\n",
    "\n",
    "    if PULocationID == 132:\n",
    "        predictedfare = float(predicted_fare[0])\n",
    "        fare= predictedfare + 1.25\n",
    "        Prediction_label = Label(window,text=(f'Your estimated fare is ${fare}'),bg='black',fg='yellow',font=(\"Arial\",15,\"bold\"))\n",
    "        Prediction_label.pack()\n",
    "    elif PULocationID == 138:\n",
    "        predictedfare = float(predicted_fare[0])\n",
    "        fare= predictedfare + 1.25\n",
    "        Prediction_label = Label(window,text=(f'Your estimated fare is ${fare}'),bg='black',fg='yellow',font=(\"Arial\",15,\"bold\"))\n",
    "        Prediction_label.pack()\n",
    "    else:\n",
    "        Prediction_label = Label(window,text=(f'Your estimated fare is ${fare}'),bg='black',fg='yellow',font=(\"Arial\",15,\"bold\"))\n",
    "        Prediction_label.pack()\n",
    "\n",
    "\n",
    "\n",
    "#Window \n",
    "window = Tk()\n",
    "window.title('Fare Predictor')\n",
    "window.geometry(\"300x500\")\n",
    "window.minsize(350,400)\n",
    "window.maxsize(600,650)\n",
    "window.configure(bg='black')\n",
    "\n",
    "\n",
    "\n",
    "Title_label = Label(text = 'YELLOW TAXI FAIR PREDICTION', bg = 'black',fg = 'yellow',font=(\"Arial\",15,\"bold\"))\n",
    "Title_label.pack(pady=20)\n",
    "\n",
    "Distance_lable = Label(window,text='DISTANCE',bg='black',fg='yellow',font=(\"Arial\",15,\"bold\"))\n",
    "Distance_lable.pack()\n",
    "\n",
    "Distance_entry = Entry(window,width=15,font=(\"Arial\",14),bg=\"gray\",fg=\"white\",borderwidth=3)\n",
    "Distance_entry.pack(pady=5)\n",
    "\n",
    "PULocation_lable = Label(window,text='PICK UP LOCATION',bg='black',fg='yellow',font=(\"Arial\",15,\"bold\"))\n",
    "PULocation_lable.pack()\n",
    "\n",
    "PULocation_entry = Entry(window,width=15,font=(\"Arial\",14),bg=\"gray\",fg=\"white\",borderwidth=3)\n",
    "PULocation_entry.pack(pady=5)\n",
    "\n",
    "DOLocation_lable = Label(window,text='DROP OFF LOCATION',bg='black',fg='yellow',font=(\"Arial\",15,\"bold\"))\n",
    "DOLocation_lable.pack()\n",
    "\n",
    "DOLocation_entry = Entry(window,width=15,font=(\"Arial\",14),bg=\"gray\",fg=\"white\",borderwidth=3)\n",
    "DOLocation_entry.pack(pady=5)\n",
    "\n",
    "Weekday_lable = Label(window,text='DAY OF THE WEEK',bg='black',fg='yellow',font=(\"Arial\",15,\"bold\"))\n",
    "Weekday_lable.pack()\n",
    "\n",
    "Weekday_entry = Entry(window,width=15,font=(\"Arial\",14),bg=\"gray\",fg=\"white\",borderwidth=3)\n",
    "Weekday_entry.pack(pady=5)\n",
    "\n",
    "Time_lable = Label(window,text='TIME',bg='black',fg='yellow',font=(\"Arial\",15,\"bold\"))\n",
    "Time_lable.pack()\n",
    "\n",
    "Time_entry = Entry(window,width=15,font=(\"Arial\",14),bg=\"gray\",fg=\"white\",borderwidth=3)\n",
    "Time_entry.pack(pady=5)\n",
    "\n",
    "Predict_button = Button(window,text='PREDICT',width=15,font=(\"Arial\",14),bg=\"yellow\",fg=\"black\",command=predict)\n",
    "Predict_button.pack(pady=5)\n",
    "\n",
    "Prediction_label = Label(window,bg='black',fg='yellow',font=(\"Arial\",15,\"bold\"))\n",
    "Prediction_label.pack()\n",
    "\n",
    "window.mainloop()"
   ]
  },
  {
   "cell_type": "code",
   "execution_count": null,
   "id": "e4ef3759-3126-4841-ac1d-a171234ae74f",
   "metadata": {},
   "outputs": [],
   "source": []
  }
 ],
 "metadata": {
  "kernelspec": {
   "display_name": "Python 3 (ipykernel)",
   "language": "python",
   "name": "python3"
  },
  "language_info": {
   "codemirror_mode": {
    "name": "ipython",
    "version": 3
   },
   "file_extension": ".py",
   "mimetype": "text/x-python",
   "name": "python",
   "nbconvert_exporter": "python",
   "pygments_lexer": "ipython3",
   "version": "3.12.0"
  }
 },
 "nbformat": 4,
 "nbformat_minor": 5
}
