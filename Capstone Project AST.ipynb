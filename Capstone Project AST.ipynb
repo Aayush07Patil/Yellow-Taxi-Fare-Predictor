{
 "cells": [
  {
   "cell_type": "code",
   "execution_count": 112,
   "id": "10be81e7",
   "metadata": {},
   "outputs": [],
   "source": [
    "#Importing Libraries we will use for data processing and ML model \n",
    "\n",
    "import pandas as pd\n",
    "from sodapy import Socrata\n",
    "import numpy as np\n",
    "import seaborn as sns\n",
    "import matplotlib.pyplot as plt\n",
    "import datetime as dt\n",
    "from sklearn.decomposition import PCA\n",
    "from sklearn.linear_model import LinearRegression\n",
    "from sklearn.tree import DecisionTreeRegressor\n",
    "from sklearn.ensemble import AdaBoostRegressor\n",
    "from sklearn.ensemble import GradientBoostingRegressor\n",
    "from xgboost import XGBRegressor\n",
    "from sklearn import metrics\n",
    "from sklearn.model_selection import train_test_split\n",
    "from sklearn.metrics import r2_score\n",
    "from sklearn.metrics import mean_absolute_percentage_error\n",
    "import time"
   ]
  },
  {
   "cell_type": "code",
   "execution_count": 2,
   "id": "b6cf3e3d",
   "metadata": {},
   "outputs": [],
   "source": [
    "# Importing Modules for The GUI\n",
    "\n",
    "from tkinter import *\n",
    "from PIL import ImageTk, Image"
   ]
  },
  {
   "cell_type": "code",
   "execution_count": 3,
   "id": "0ad50ca1",
   "metadata": {},
   "outputs": [],
   "source": [
    "#importing map distance modules\n",
    "\n",
    "from geopy.geocoders import Nominatim\n",
    "from geopy import distance"
   ]
  },
  {
   "cell_type": "code",
   "execution_count": 4,
   "id": "7638e1d6",
   "metadata": {},
   "outputs": [
    {
     "name": "stderr",
     "output_type": "stream",
     "text": [
      "WARNING:root:Requests made without an app_token will be subject to strict throttling limits.\n"
     ]
    },
    {
     "data": {
      "text/html": [
       "<div>\n",
       "<style scoped>\n",
       "    .dataframe tbody tr th:only-of-type {\n",
       "        vertical-align: middle;\n",
       "    }\n",
       "\n",
       "    .dataframe tbody tr th {\n",
       "        vertical-align: top;\n",
       "    }\n",
       "\n",
       "    .dataframe thead th {\n",
       "        text-align: right;\n",
       "    }\n",
       "</style>\n",
       "<table border=\"1\" class=\"dataframe\">\n",
       "  <thead>\n",
       "    <tr style=\"text-align: right;\">\n",
       "      <th></th>\n",
       "      <th>vendorid</th>\n",
       "      <th>tpep_pickup_datetime</th>\n",
       "      <th>tpep_dropoff_datetime</th>\n",
       "      <th>passenger_count</th>\n",
       "      <th>trip_distance</th>\n",
       "      <th>ratecodeid</th>\n",
       "      <th>store_and_fwd_flag</th>\n",
       "      <th>pulocationid</th>\n",
       "      <th>dolocationid</th>\n",
       "      <th>payment_type</th>\n",
       "      <th>fare_amount</th>\n",
       "      <th>extra</th>\n",
       "      <th>mta_tax</th>\n",
       "      <th>tip_amount</th>\n",
       "      <th>tolls_amount</th>\n",
       "      <th>improvement_surcharge</th>\n",
       "      <th>total_amount</th>\n",
       "      <th>congestion_surcharge</th>\n",
       "    </tr>\n",
       "  </thead>\n",
       "  <tbody>\n",
       "    <tr>\n",
       "      <th>0</th>\n",
       "      <td>1</td>\n",
       "      <td>2020-01-01T00:28:15.000</td>\n",
       "      <td>2020-01-01T00:33:03.000</td>\n",
       "      <td>1</td>\n",
       "      <td>1.20</td>\n",
       "      <td>1</td>\n",
       "      <td>N</td>\n",
       "      <td>238</td>\n",
       "      <td>239</td>\n",
       "      <td>1</td>\n",
       "      <td>6</td>\n",
       "      <td>3</td>\n",
       "      <td>0.5</td>\n",
       "      <td>1.47</td>\n",
       "      <td>0</td>\n",
       "      <td>0.3</td>\n",
       "      <td>11.27</td>\n",
       "      <td>2.5</td>\n",
       "    </tr>\n",
       "    <tr>\n",
       "      <th>1</th>\n",
       "      <td>1</td>\n",
       "      <td>2020-01-01T00:35:39.000</td>\n",
       "      <td>2020-01-01T00:43:04.000</td>\n",
       "      <td>1</td>\n",
       "      <td>1.20</td>\n",
       "      <td>1</td>\n",
       "      <td>N</td>\n",
       "      <td>239</td>\n",
       "      <td>238</td>\n",
       "      <td>1</td>\n",
       "      <td>7</td>\n",
       "      <td>3</td>\n",
       "      <td>0.5</td>\n",
       "      <td>1.5</td>\n",
       "      <td>0</td>\n",
       "      <td>0.3</td>\n",
       "      <td>12.3</td>\n",
       "      <td>2.5</td>\n",
       "    </tr>\n",
       "    <tr>\n",
       "      <th>2</th>\n",
       "      <td>1</td>\n",
       "      <td>2020-01-01T00:47:41.000</td>\n",
       "      <td>2020-01-01T00:53:52.000</td>\n",
       "      <td>1</td>\n",
       "      <td>0.60</td>\n",
       "      <td>1</td>\n",
       "      <td>N</td>\n",
       "      <td>238</td>\n",
       "      <td>238</td>\n",
       "      <td>1</td>\n",
       "      <td>6</td>\n",
       "      <td>3</td>\n",
       "      <td>0.5</td>\n",
       "      <td>1</td>\n",
       "      <td>0</td>\n",
       "      <td>0.3</td>\n",
       "      <td>10.8</td>\n",
       "      <td>2.5</td>\n",
       "    </tr>\n",
       "    <tr>\n",
       "      <th>3</th>\n",
       "      <td>1</td>\n",
       "      <td>2020-01-01T00:55:23.000</td>\n",
       "      <td>2020-01-01T01:00:14.000</td>\n",
       "      <td>1</td>\n",
       "      <td>0.80</td>\n",
       "      <td>1</td>\n",
       "      <td>N</td>\n",
       "      <td>238</td>\n",
       "      <td>151</td>\n",
       "      <td>1</td>\n",
       "      <td>5.5</td>\n",
       "      <td>0.5</td>\n",
       "      <td>0.5</td>\n",
       "      <td>1.36</td>\n",
       "      <td>0</td>\n",
       "      <td>0.3</td>\n",
       "      <td>8.16</td>\n",
       "      <td>0</td>\n",
       "    </tr>\n",
       "    <tr>\n",
       "      <th>4</th>\n",
       "      <td>2</td>\n",
       "      <td>2020-01-01T00:01:58.000</td>\n",
       "      <td>2020-01-01T00:04:16.000</td>\n",
       "      <td>1</td>\n",
       "      <td>0.00</td>\n",
       "      <td>1</td>\n",
       "      <td>N</td>\n",
       "      <td>193</td>\n",
       "      <td>193</td>\n",
       "      <td>2</td>\n",
       "      <td>3.5</td>\n",
       "      <td>0.5</td>\n",
       "      <td>0.5</td>\n",
       "      <td>0</td>\n",
       "      <td>0</td>\n",
       "      <td>0.3</td>\n",
       "      <td>4.8</td>\n",
       "      <td>0</td>\n",
       "    </tr>\n",
       "  </tbody>\n",
       "</table>\n",
       "</div>"
      ],
      "text/plain": [
       "  vendorid     tpep_pickup_datetime    tpep_dropoff_datetime passenger_count  \\\n",
       "0        1  2020-01-01T00:28:15.000  2020-01-01T00:33:03.000               1   \n",
       "1        1  2020-01-01T00:35:39.000  2020-01-01T00:43:04.000               1   \n",
       "2        1  2020-01-01T00:47:41.000  2020-01-01T00:53:52.000               1   \n",
       "3        1  2020-01-01T00:55:23.000  2020-01-01T01:00:14.000               1   \n",
       "4        2  2020-01-01T00:01:58.000  2020-01-01T00:04:16.000               1   \n",
       "\n",
       "  trip_distance ratecodeid store_and_fwd_flag pulocationid dolocationid  \\\n",
       "0          1.20          1                  N          238          239   \n",
       "1          1.20          1                  N          239          238   \n",
       "2          0.60          1                  N          238          238   \n",
       "3          0.80          1                  N          238          151   \n",
       "4          0.00          1                  N          193          193   \n",
       "\n",
       "  payment_type fare_amount extra mta_tax tip_amount tolls_amount  \\\n",
       "0            1           6     3     0.5       1.47            0   \n",
       "1            1           7     3     0.5        1.5            0   \n",
       "2            1           6     3     0.5          1            0   \n",
       "3            1         5.5   0.5     0.5       1.36            0   \n",
       "4            2         3.5   0.5     0.5          0            0   \n",
       "\n",
       "  improvement_surcharge total_amount congestion_surcharge  \n",
       "0                   0.3        11.27                  2.5  \n",
       "1                   0.3         12.3                  2.5  \n",
       "2                   0.3         10.8                  2.5  \n",
       "3                   0.3         8.16                    0  \n",
       "4                   0.3          4.8                    0  "
      ]
     },
     "execution_count": 4,
     "metadata": {},
     "output_type": "execute_result"
    }
   ],
   "source": [
    "# Get data from API and load into pandas dataframe\n",
    "\n",
    "client = Socrata(\"data.cityofnewyork.us\", None)\n",
    "\n",
    "results = client.get(\"kxp8-n2sj\", limit = 2000000)\n",
    "\n",
    "taxi_df = pd.DataFrame.from_records(results)\n",
    "taxi_df.head()"
   ]
  },
  {
   "cell_type": "code",
   "execution_count": 5,
   "id": "a7e5d588",
   "metadata": {},
   "outputs": [
    {
     "data": {
      "image/png": "[encoded data removed]",
      "text/plain": [
       "<Figure size 800x400 with 1 Axes>"
      ]
     },
     "metadata": {},
     "output_type": "display_data"
    }
   ],
   "source": [
    "import matplotlib.pyplot as plt\n",
    "\n",
    "# Converting the trip_distance column to numeric\n",
    "taxi_df['trip_distance'] = pd.to_numeric(taxi_df['trip_distance'], errors='coerce')\n",
    "\n",
    "# Ploting a histogram of trip distances\n",
    "plt.figure(figsize=(8, 4))\n",
    "plt.hist(taxi_df['trip_distance'].dropna(), bins=50, color='skyblue', edgecolor='black')\n",
    "plt.title('Histogram of Trip Distances')\n",
    "plt.xlabel('Trip Distance (miles)')\n",
    "plt.ylabel('Frequency')\n",
    "plt.xlim(0.25,30)\n",
    "plt.show()"
   ]
  },
  {
   "cell_type": "code",
   "execution_count": 6,
   "id": "e1c08288",
   "metadata": {},
   "outputs": [
    {
     "data": {
      "image/png": "[encoded data removed]",
      "text/plain": [
       "<Figure size 1000x600 with 1 Axes>"
      ]
     },
     "metadata": {},
     "output_type": "display_data"
    }
   ],
   "source": [
    "# Convert the fare_amount column to numeric\n",
    "taxi_df['fare_amount'] = pd.to_numeric(taxi_df['fare_amount'], errors='coerce')\n",
    "\n",
    "# Plot a boxplot of fare amounts\n",
    "plt.figure(figsize=(10, 6))\n",
    "taxi_df.boxplot(column='fare_amount', vert=False, patch_artist=True, medianprops={'color':'black'})\n",
    "plt.title('Boxplot of Fare Amounts')\n",
    "plt.xlabel('Fare Amount')\n",
    "plt.xlim(0,350)\n",
    "plt.show()"
   ]
  },
  {
   "cell_type": "code",
   "execution_count": 7,
   "id": "3cba0fee",
   "metadata": {},
   "outputs": [
    {
     "data": {
      "image/png": "[encoded data removed]",
      "text/plain": [
       "<Figure size 1000x600 with 1 Axes>"
      ]
     },
     "metadata": {},
     "output_type": "display_data"
    }
   ],
   "source": [
    "plt.figure(figsize=(10, 6))\n",
    "plt.scatter(taxi_df['trip_distance'], taxi_df['fare_amount'], alpha=0.5, color='green')\n",
    "plt.title('Scatter Plot of Trip Distance vs. Fare Amount')\n",
    "plt.xlabel('Trip Distance (miles)')\n",
    "plt.ylabel('Fare Amount ($)')\n",
    "plt.show()"
   ]
  },
  {
   "cell_type": "code",
   "execution_count": 8,
   "id": "528b230e",
   "metadata": {},
   "outputs": [
    {
     "data": {
      "image/png": "[encoded data removed]",
      "text/plain": [
       "<Figure size 1200x600 with 1 Axes>"
      ]
     },
     "metadata": {},
     "output_type": "display_data"
    }
   ],
   "source": [
    "# Ploting a bar plot of the top 10 pickup locations\n",
    "top_pickup_locations = taxi_df['pulocationid'].value_counts().nlargest(10)\n",
    "plt.figure(figsize=(12, 6))\n",
    "top_pickup_locations.plot(kind='bar', color='skyblue')\n",
    "plt.title('Top 10 Pickup Locations')\n",
    "plt.xlabel('Location ID')\n",
    "plt.ylabel('Number of Pickups')\n",
    "plt.show()"
   ]
  },
  {
   "cell_type": "code",
   "execution_count": 9,
   "id": "45402bcf",
   "metadata": {},
   "outputs": [
    {
     "data": {
      "text/html": [
       "<div>\n",
       "<style scoped>\n",
       "    .dataframe tbody tr th:only-of-type {\n",
       "        vertical-align: middle;\n",
       "    }\n",
       "\n",
       "    .dataframe tbody tr th {\n",
       "        vertical-align: top;\n",
       "    }\n",
       "\n",
       "    .dataframe thead th {\n",
       "        text-align: right;\n",
       "    }\n",
       "</style>\n",
       "<table border=\"1\" class=\"dataframe\">\n",
       "  <thead>\n",
       "    <tr style=\"text-align: right;\">\n",
       "      <th></th>\n",
       "      <th>LocationID</th>\n",
       "      <th>Borough</th>\n",
       "      <th>Zone</th>\n",
       "      <th>service_zone</th>\n",
       "    </tr>\n",
       "  </thead>\n",
       "  <tbody>\n",
       "    <tr>\n",
       "      <th>0</th>\n",
       "      <td>1</td>\n",
       "      <td>EWR</td>\n",
       "      <td>Newark Airport</td>\n",
       "      <td>EWR</td>\n",
       "    </tr>\n",
       "    <tr>\n",
       "      <th>1</th>\n",
       "      <td>2</td>\n",
       "      <td>Queens</td>\n",
       "      <td>Jamaica Bay</td>\n",
       "      <td>Boro Zone</td>\n",
       "    </tr>\n",
       "    <tr>\n",
       "      <th>2</th>\n",
       "      <td>3</td>\n",
       "      <td>Bronx</td>\n",
       "      <td>Allerton/Pelham Gardens</td>\n",
       "      <td>Boro Zone</td>\n",
       "    </tr>\n",
       "    <tr>\n",
       "      <th>3</th>\n",
       "      <td>4</td>\n",
       "      <td>Manhattan</td>\n",
       "      <td>Alphabet City</td>\n",
       "      <td>Yellow Zone</td>\n",
       "    </tr>\n",
       "    <tr>\n",
       "      <th>4</th>\n",
       "      <td>5</td>\n",
       "      <td>Staten Island</td>\n",
       "      <td>Arden Heights</td>\n",
       "      <td>Boro Zone</td>\n",
       "    </tr>\n",
       "    <tr>\n",
       "      <th>...</th>\n",
       "      <td>...</td>\n",
       "      <td>...</td>\n",
       "      <td>...</td>\n",
       "      <td>...</td>\n",
       "    </tr>\n",
       "    <tr>\n",
       "      <th>260</th>\n",
       "      <td>261</td>\n",
       "      <td>Manhattan</td>\n",
       "      <td>World Trade Center</td>\n",
       "      <td>Yellow Zone</td>\n",
       "    </tr>\n",
       "    <tr>\n",
       "      <th>261</th>\n",
       "      <td>262</td>\n",
       "      <td>Manhattan</td>\n",
       "      <td>Yorkville East</td>\n",
       "      <td>Yellow Zone</td>\n",
       "    </tr>\n",
       "    <tr>\n",
       "      <th>262</th>\n",
       "      <td>263</td>\n",
       "      <td>Manhattan</td>\n",
       "      <td>Yorkville West</td>\n",
       "      <td>Yellow Zone</td>\n",
       "    </tr>\n",
       "    <tr>\n",
       "      <th>263</th>\n",
       "      <td>264</td>\n",
       "      <td>Unknown</td>\n",
       "      <td>NV</td>\n",
       "      <td>NaN</td>\n",
       "    </tr>\n",
       "    <tr>\n",
       "      <th>264</th>\n",
       "      <td>265</td>\n",
       "      <td>Unknown</td>\n",
       "      <td>NaN</td>\n",
       "      <td>NaN</td>\n",
       "    </tr>\n",
       "  </tbody>\n",
       "</table>\n",
       "<p>265 rows × 4 columns</p>\n",
       "</div>"
      ],
      "text/plain": [
       "     LocationID        Borough                     Zone service_zone\n",
       "0             1            EWR           Newark Airport          EWR\n",
       "1             2         Queens              Jamaica Bay    Boro Zone\n",
       "2             3          Bronx  Allerton/Pelham Gardens    Boro Zone\n",
       "3             4      Manhattan            Alphabet City  Yellow Zone\n",
       "4             5  Staten Island            Arden Heights    Boro Zone\n",
       "..          ...            ...                      ...          ...\n",
       "260         261      Manhattan       World Trade Center  Yellow Zone\n",
       "261         262      Manhattan           Yorkville East  Yellow Zone\n",
       "262         263      Manhattan           Yorkville West  Yellow Zone\n",
       "263         264        Unknown                       NV          NaN\n",
       "264         265        Unknown                      NaN          NaN\n",
       "\n",
       "[265 rows x 4 columns]"
      ]
     },
     "execution_count": 9,
     "metadata": {},
     "output_type": "execute_result"
    }
   ],
   "source": [
    "# Get taxizone lookup table from link\n",
    "\n",
    "taxi_zone_df = pd.read_csv('https://d37ci6vzurychx.cloudfront.net/misc/taxi+_zone_lookup.csv')\n",
    "taxi_zone_df"
   ]
  },
  {
   "cell_type": "code",
   "execution_count": 10,
   "id": "788884a9",
   "metadata": {},
   "outputs": [
    {
     "data": {
      "text/plain": [
       "(2000000, 18)"
      ]
     },
     "execution_count": 10,
     "metadata": {},
     "output_type": "execute_result"
    }
   ],
   "source": [
    "#Shape of dataframe\n",
    "\n",
    "taxi_df.shape"
   ]
  },
  {
   "cell_type": "code",
   "execution_count": 11,
   "id": "7edac13b",
   "metadata": {},
   "outputs": [
    {
     "data": {
      "text/plain": [
       "vendorid                 4142\n",
       "tpep_pickup_datetime        0\n",
       "tpep_dropoff_datetime       0\n",
       "passenger_count          4142\n",
       "trip_distance               0\n",
       "ratecodeid               4142\n",
       "store_and_fwd_flag       4142\n",
       "pulocationid                0\n",
       "dolocationid                0\n",
       "payment_type             4142\n",
       "fare_amount                 0\n",
       "extra                       0\n",
       "mta_tax                     0\n",
       "tip_amount                  0\n",
       "tolls_amount                0\n",
       "improvement_surcharge       0\n",
       "total_amount                0\n",
       "congestion_surcharge        0\n",
       "dtype: int64"
      ]
     },
     "execution_count": 11,
     "metadata": {},
     "output_type": "execute_result"
    }
   ],
   "source": [
    "#Checking null values\n",
    "\n",
    "taxi_df.isnull().sum()"
   ]
  },
  {
   "cell_type": "code",
   "execution_count": 12,
   "id": "5953dec0",
   "metadata": {},
   "outputs": [],
   "source": [
    "# Dropping rows with null values\n",
    "\n",
    "taxi_df = taxi_df.dropna()"
   ]
  },
  {
   "cell_type": "code",
   "execution_count": 13,
   "id": "a87814b3",
   "metadata": {},
   "outputs": [
    {
     "data": {
      "text/plain": [
       "(1995858, 18)"
      ]
     },
     "execution_count": 13,
     "metadata": {},
     "output_type": "execute_result"
    }
   ],
   "source": [
    "#Checking Shape after droping null value columns\n",
    "\n",
    "taxi_df.shape"
   ]
  },
  {
   "cell_type": "code",
   "execution_count": 14,
   "id": "fe7ba120",
   "metadata": {},
   "outputs": [
    {
     "data": {
      "text/plain": [
       "vendorid                  object\n",
       "tpep_pickup_datetime      object\n",
       "tpep_dropoff_datetime     object\n",
       "passenger_count           object\n",
       "trip_distance            float64\n",
       "ratecodeid                object\n",
       "store_and_fwd_flag        object\n",
       "pulocationid              object\n",
       "dolocationid              object\n",
       "payment_type              object\n",
       "fare_amount              float64\n",
       "extra                     object\n",
       "mta_tax                   object\n",
       "tip_amount                object\n",
       "tolls_amount              object\n",
       "improvement_surcharge     object\n",
       "total_amount              object\n",
       "congestion_surcharge      object\n",
       "dtype: object"
      ]
     },
     "execution_count": 14,
     "metadata": {},
     "output_type": "execute_result"
    }
   ],
   "source": [
    "#Checking data types\n",
    "\n",
    "taxi_df.dtypes"
   ]
  },
  {
   "cell_type": "code",
   "execution_count": 15,
   "id": "fae1942d",
   "metadata": {},
   "outputs": [],
   "source": [
    "# This command will supress warning raised when chained assignments are used\n",
    "\n",
    "pd.options.mode.chained_assignment = None"
   ]
  },
  {
   "cell_type": "code",
   "execution_count": 16,
   "id": "1bfdabef",
   "metadata": {},
   "outputs": [],
   "source": [
    "#Converting data types to make it more usefull\n",
    "\n",
    "taxi_df['vendorid'] = pd.to_numeric(taxi_df['vendorid'])\n",
    "taxi_df['passenger_count'] = pd.to_numeric(taxi_df['passenger_count'])\n",
    "taxi_df['trip_distance'] = pd.to_numeric(taxi_df['trip_distance'])\n",
    "taxi_df['ratecodeid'] = pd.to_numeric(taxi_df['ratecodeid'])\n",
    "taxi_df['pulocationid'] = pd.to_numeric(taxi_df['pulocationid'])\n",
    "taxi_df['dolocationid'] = pd.to_numeric(taxi_df['dolocationid'])\n",
    "taxi_df['payment_type'] = pd.to_numeric(taxi_df['payment_type'])\n",
    "taxi_df['fare_amount'] = pd.to_numeric(taxi_df['fare_amount'])\n",
    "taxi_df['extra'] = pd.to_numeric(taxi_df['extra'])\n",
    "taxi_df['mta_tax'] = pd.to_numeric(taxi_df['mta_tax'])\n",
    "taxi_df['tip_amount'] = pd.to_numeric(taxi_df['tip_amount'])\n",
    "taxi_df['tolls_amount'] = pd.to_numeric(taxi_df['tolls_amount'])\n",
    "taxi_df['improvement_surcharge'] = pd.to_numeric(taxi_df['improvement_surcharge'])\n",
    "taxi_df['total_amount'] = pd.to_numeric(taxi_df['total_amount'])\n",
    "taxi_df['congestion_surcharge'] = pd.to_numeric(taxi_df['congestion_surcharge'])\n",
    "taxi_df['tpep_pickup_datetime'] = pd.to_datetime(taxi_df['tpep_pickup_datetime'])\n",
    "taxi_df['tpep_dropoff_datetime'] = pd.to_datetime(taxi_df['tpep_dropoff_datetime'])\n",
    "taxi_df['store_and_fwd_flag'] = taxi_df['store_and_fwd_flag'].astype('category')"
   ]
  },
  {
   "cell_type": "code",
   "execution_count": 17,
   "id": "dc93830e",
   "metadata": {},
   "outputs": [
    {
     "data": {
      "text/plain": [
       "vendorid                          int64\n",
       "tpep_pickup_datetime     datetime64[ns]\n",
       "tpep_dropoff_datetime    datetime64[ns]\n",
       "passenger_count                   int64\n",
       "trip_distance                   float64\n",
       "ratecodeid                        int64\n",
       "store_and_fwd_flag             category\n",
       "pulocationid                      int64\n",
       "dolocationid                      int64\n",
       "payment_type                      int64\n",
       "fare_amount                     float64\n",
       "extra                           float64\n",
       "mta_tax                         float64\n",
       "tip_amount                      float64\n",
       "tolls_amount                    float64\n",
       "improvement_surcharge           float64\n",
       "total_amount                    float64\n",
       "congestion_surcharge            float64\n",
       "dtype: object"
      ]
     },
     "execution_count": 17,
     "metadata": {},
     "output_type": "execute_result"
    }
   ],
   "source": [
    "taxi_df.dtypes"
   ]
  },
  {
   "cell_type": "code",
   "execution_count": 18,
   "id": "39eb56b2",
   "metadata": {},
   "outputs": [
    {
     "data": {
      "text/plain": [
       "vendorid                          int64\n",
       "tpep_pickup_datetime     datetime64[ns]\n",
       "tpep_dropoff_datetime    datetime64[ns]\n",
       "passenger_count                   int64\n",
       "trip_distance                   float64\n",
       "ratecodeid                        int64\n",
       "store_and_fwd_flag             category\n",
       "pulocationid                      int64\n",
       "dolocationid                      int64\n",
       "payment_type                      int64\n",
       "fare_amount                     float64\n",
       "extra                           float64\n",
       "mta_tax                         float64\n",
       "tip_amount                      float64\n",
       "tolls_amount                    float64\n",
       "improvement_surcharge           float64\n",
       "total_amount                    float64\n",
       "congestion_surcharge            float64\n",
       "dtype: object"
      ]
     },
     "execution_count": 18,
     "metadata": {},
     "output_type": "execute_result"
    }
   ],
   "source": [
    "taxi_df.dtypes"
   ]
  },
  {
   "cell_type": "code",
   "execution_count": 19,
   "id": "7e35227d",
   "metadata": {},
   "outputs": [],
   "source": [
    "# Filtering the data with passengers more than zero and less than nine\n",
    "\n",
    "taxi_df = taxi_df[taxi_df['passenger_count']>0]\n",
    "taxi_df = taxi_df[taxi_df['passenger_count']<7]"
   ]
  },
  {
   "cell_type": "code",
   "execution_count": 20,
   "id": "1003c3e4",
   "metadata": {},
   "outputs": [],
   "source": [
    "#Filtering data with Total fare more than zero\n",
    "\n",
    "taxi_df = taxi_df[taxi_df['total_amount']>0]"
   ]
  },
  {
   "cell_type": "code",
   "execution_count": 21,
   "id": "7c784b18",
   "metadata": {},
   "outputs": [
    {
     "data": {
      "text/html": [
       "<div>\n",
       "<style scoped>\n",
       "    .dataframe tbody tr th:only-of-type {\n",
       "        vertical-align: middle;\n",
       "    }\n",
       "\n",
       "    .dataframe tbody tr th {\n",
       "        vertical-align: top;\n",
       "    }\n",
       "\n",
       "    .dataframe thead th {\n",
       "        text-align: right;\n",
       "    }\n",
       "</style>\n",
       "<table border=\"1\" class=\"dataframe\">\n",
       "  <thead>\n",
       "    <tr style=\"text-align: right;\">\n",
       "      <th></th>\n",
       "      <th>vendorid</th>\n",
       "      <th>tpep_pickup_datetime</th>\n",
       "      <th>tpep_dropoff_datetime</th>\n",
       "      <th>passenger_count</th>\n",
       "      <th>trip_distance</th>\n",
       "      <th>ratecodeid</th>\n",
       "      <th>store_and_fwd_flag</th>\n",
       "      <th>pulocationid</th>\n",
       "      <th>dolocationid</th>\n",
       "      <th>payment_type</th>\n",
       "      <th>fare_amount</th>\n",
       "      <th>extra</th>\n",
       "      <th>mta_tax</th>\n",
       "      <th>tip_amount</th>\n",
       "      <th>tolls_amount</th>\n",
       "      <th>improvement_surcharge</th>\n",
       "      <th>total_amount</th>\n",
       "      <th>congestion_surcharge</th>\n",
       "    </tr>\n",
       "  </thead>\n",
       "  <tbody>\n",
       "    <tr>\n",
       "      <th>0</th>\n",
       "      <td>1</td>\n",
       "      <td>2020-01-01 00:28:15</td>\n",
       "      <td>2020-01-01 00:33:03</td>\n",
       "      <td>1</td>\n",
       "      <td>1.2</td>\n",
       "      <td>1</td>\n",
       "      <td>N</td>\n",
       "      <td>238</td>\n",
       "      <td>239</td>\n",
       "      <td>1</td>\n",
       "      <td>6.0</td>\n",
       "      <td>3.0</td>\n",
       "      <td>0.5</td>\n",
       "      <td>1.47</td>\n",
       "      <td>0.0</td>\n",
       "      <td>0.3</td>\n",
       "      <td>11.27</td>\n",
       "      <td>2.5</td>\n",
       "    </tr>\n",
       "    <tr>\n",
       "      <th>1</th>\n",
       "      <td>1</td>\n",
       "      <td>2020-01-01 00:35:39</td>\n",
       "      <td>2020-01-01 00:43:04</td>\n",
       "      <td>1</td>\n",
       "      <td>1.2</td>\n",
       "      <td>1</td>\n",
       "      <td>N</td>\n",
       "      <td>239</td>\n",
       "      <td>238</td>\n",
       "      <td>1</td>\n",
       "      <td>7.0</td>\n",
       "      <td>3.0</td>\n",
       "      <td>0.5</td>\n",
       "      <td>1.50</td>\n",
       "      <td>0.0</td>\n",
       "      <td>0.3</td>\n",
       "      <td>12.30</td>\n",
       "      <td>2.5</td>\n",
       "    </tr>\n",
       "    <tr>\n",
       "      <th>2</th>\n",
       "      <td>1</td>\n",
       "      <td>2020-01-01 00:47:41</td>\n",
       "      <td>2020-01-01 00:53:52</td>\n",
       "      <td>1</td>\n",
       "      <td>0.6</td>\n",
       "      <td>1</td>\n",
       "      <td>N</td>\n",
       "      <td>238</td>\n",
       "      <td>238</td>\n",
       "      <td>1</td>\n",
       "      <td>6.0</td>\n",
       "      <td>3.0</td>\n",
       "      <td>0.5</td>\n",
       "      <td>1.00</td>\n",
       "      <td>0.0</td>\n",
       "      <td>0.3</td>\n",
       "      <td>10.80</td>\n",
       "      <td>2.5</td>\n",
       "    </tr>\n",
       "    <tr>\n",
       "      <th>3</th>\n",
       "      <td>1</td>\n",
       "      <td>2020-01-01 00:55:23</td>\n",
       "      <td>2020-01-01 01:00:14</td>\n",
       "      <td>1</td>\n",
       "      <td>0.8</td>\n",
       "      <td>1</td>\n",
       "      <td>N</td>\n",
       "      <td>238</td>\n",
       "      <td>151</td>\n",
       "      <td>1</td>\n",
       "      <td>5.5</td>\n",
       "      <td>0.5</td>\n",
       "      <td>0.5</td>\n",
       "      <td>1.36</td>\n",
       "      <td>0.0</td>\n",
       "      <td>0.3</td>\n",
       "      <td>8.16</td>\n",
       "      <td>0.0</td>\n",
       "    </tr>\n",
       "    <tr>\n",
       "      <th>4</th>\n",
       "      <td>2</td>\n",
       "      <td>2020-01-01 00:01:58</td>\n",
       "      <td>2020-01-01 00:04:16</td>\n",
       "      <td>1</td>\n",
       "      <td>0.0</td>\n",
       "      <td>1</td>\n",
       "      <td>N</td>\n",
       "      <td>193</td>\n",
       "      <td>193</td>\n",
       "      <td>2</td>\n",
       "      <td>3.5</td>\n",
       "      <td>0.5</td>\n",
       "      <td>0.5</td>\n",
       "      <td>0.00</td>\n",
       "      <td>0.0</td>\n",
       "      <td>0.3</td>\n",
       "      <td>4.80</td>\n",
       "      <td>0.0</td>\n",
       "    </tr>\n",
       "  </tbody>\n",
       "</table>\n",
       "</div>"
      ],
      "text/plain": [
       "   vendorid tpep_pickup_datetime tpep_dropoff_datetime  passenger_count  \\\n",
       "0         1  2020-01-01 00:28:15   2020-01-01 00:33:03                1   \n",
       "1         1  2020-01-01 00:35:39   2020-01-01 00:43:04                1   \n",
       "2         1  2020-01-01 00:47:41   2020-01-01 00:53:52                1   \n",
       "3         1  2020-01-01 00:55:23   2020-01-01 01:00:14                1   \n",
       "4         2  2020-01-01 00:01:58   2020-01-01 00:04:16                1   \n",
       "\n",
       "   trip_distance  ratecodeid store_and_fwd_flag  pulocationid  dolocationid  \\\n",
       "0            1.2           1                  N           238           239   \n",
       "1            1.2           1                  N           239           238   \n",
       "2            0.6           1                  N           238           238   \n",
       "3            0.8           1                  N           238           151   \n",
       "4            0.0           1                  N           193           193   \n",
       "\n",
       "   payment_type  fare_amount  extra  mta_tax  tip_amount  tolls_amount  \\\n",
       "0             1          6.0    3.0      0.5        1.47           0.0   \n",
       "1             1          7.0    3.0      0.5        1.50           0.0   \n",
       "2             1          6.0    3.0      0.5        1.00           0.0   \n",
       "3             1          5.5    0.5      0.5        1.36           0.0   \n",
       "4             2          3.5    0.5      0.5        0.00           0.0   \n",
       "\n",
       "   improvement_surcharge  total_amount  congestion_surcharge  \n",
       "0                    0.3         11.27                   2.5  \n",
       "1                    0.3         12.30                   2.5  \n",
       "2                    0.3         10.80                   2.5  \n",
       "3                    0.3          8.16                   0.0  \n",
       "4                    0.3          4.80                   0.0  "
      ]
     },
     "execution_count": 21,
     "metadata": {},
     "output_type": "execute_result"
    }
   ],
   "source": [
    "taxi_df.head()"
   ]
  },
  {
   "cell_type": "code",
   "execution_count": 22,
   "id": "364504db",
   "metadata": {},
   "outputs": [
    {
     "data": {
      "text/plain": [
       "0   0 days 00:04:48\n",
       "1   0 days 00:07:25\n",
       "2   0 days 00:06:11\n",
       "3   0 days 00:04:51\n",
       "4   0 days 00:02:18\n",
       "Name: time_difference, dtype: timedelta64[ns]"
      ]
     },
     "execution_count": 22,
     "metadata": {},
     "output_type": "execute_result"
    }
   ],
   "source": [
    "## Adding new column called duration (difference between dropoff time and pick up time)\n",
    "taxi_df['time_difference'] = taxi_df['tpep_dropoff_datetime'] - taxi_df['tpep_pickup_datetime']\n",
    "taxi_df[\"time_difference\"].head()"
   ]
  },
  {
   "cell_type": "code",
   "execution_count": 23,
   "id": "9ba1357c",
   "metadata": {},
   "outputs": [],
   "source": [
    "taxi_df[\"time_difference\"] = taxi_df[\"time_difference\"].astype(str)"
   ]
  },
  {
   "cell_type": "code",
   "execution_count": 24,
   "id": "6e5440fd",
   "metadata": {},
   "outputs": [],
   "source": [
    "taxi_df['time_difference'] = taxi_df['time_difference'].str.slice(9)"
   ]
  },
  {
   "cell_type": "code",
   "execution_count": 25,
   "id": "cfd13064",
   "metadata": {},
   "outputs": [],
   "source": [
    "taxi_df['time_difference'] = taxi_df['time_difference'].str.slice(1)"
   ]
  },
  {
   "cell_type": "code",
   "execution_count": 26,
   "id": "15723692",
   "metadata": {},
   "outputs": [],
   "source": [
    "taxi_df[\"time_difference\"] = taxi_df['time_difference'].str.slice(-2)"
   ]
  },
  {
   "cell_type": "code",
   "execution_count": 27,
   "id": "dacb21fa",
   "metadata": {},
   "outputs": [],
   "source": [
    "taxi_df[\"time_difference\"] = pd.to_numeric(taxi_df[\"time_difference\"])"
   ]
  },
  {
   "cell_type": "code",
   "execution_count": 28,
   "id": "0bd12a74",
   "metadata": {},
   "outputs": [
    {
     "data": {
      "text/plain": [
       "Index(['vendorid', 'tpep_pickup_datetime', 'tpep_dropoff_datetime',\n",
       "       'passenger_count', 'trip_distance', 'ratecodeid', 'store_and_fwd_flag',\n",
       "       'pulocationid', 'dolocationid', 'payment_type', 'fare_amount', 'extra',\n",
       "       'mta_tax', 'tip_amount', 'tolls_amount', 'improvement_surcharge',\n",
       "       'total_amount', 'congestion_surcharge', 'time_difference'],\n",
       "      dtype='object')"
      ]
     },
     "execution_count": 28,
     "metadata": {},
     "output_type": "execute_result"
    }
   ],
   "source": [
    "taxi_df.columns"
   ]
  },
  {
   "cell_type": "code",
   "execution_count": 29,
   "id": "7ad1d617",
   "metadata": {},
   "outputs": [],
   "source": [
    "# Creating new columns named weekday number and pickup hour\n",
    "\n",
    "taxi_df['weekday_num'] = taxi_df.tpep_pickup_datetime.dt.weekday\n",
    "taxi_df['pickup_hour'] = taxi_df.tpep_pickup_datetime.dt.hour"
   ]
  },
  {
   "cell_type": "code",
   "execution_count": 30,
   "id": "e8f88e5a",
   "metadata": {},
   "outputs": [
    {
     "data": {
      "text/html": [
       "<div>\n",
       "<style scoped>\n",
       "    .dataframe tbody tr th:only-of-type {\n",
       "        vertical-align: middle;\n",
       "    }\n",
       "\n",
       "    .dataframe tbody tr th {\n",
       "        vertical-align: top;\n",
       "    }\n",
       "\n",
       "    .dataframe thead th {\n",
       "        text-align: right;\n",
       "    }\n",
       "</style>\n",
       "<table border=\"1\" class=\"dataframe\">\n",
       "  <thead>\n",
       "    <tr style=\"text-align: right;\">\n",
       "      <th></th>\n",
       "      <th>vendorid</th>\n",
       "      <th>tpep_pickup_datetime</th>\n",
       "      <th>tpep_dropoff_datetime</th>\n",
       "      <th>passenger_count</th>\n",
       "      <th>trip_distance</th>\n",
       "      <th>ratecodeid</th>\n",
       "      <th>store_and_fwd_flag</th>\n",
       "      <th>pulocationid</th>\n",
       "      <th>dolocationid</th>\n",
       "      <th>payment_type</th>\n",
       "      <th>...</th>\n",
       "      <th>extra</th>\n",
       "      <th>mta_tax</th>\n",
       "      <th>tip_amount</th>\n",
       "      <th>tolls_amount</th>\n",
       "      <th>improvement_surcharge</th>\n",
       "      <th>total_amount</th>\n",
       "      <th>congestion_surcharge</th>\n",
       "      <th>time_difference</th>\n",
       "      <th>weekday_num</th>\n",
       "      <th>pickup_hour</th>\n",
       "    </tr>\n",
       "  </thead>\n",
       "  <tbody>\n",
       "    <tr>\n",
       "      <th>0</th>\n",
       "      <td>1</td>\n",
       "      <td>2020-01-01 00:28:15</td>\n",
       "      <td>2020-01-01 00:33:03</td>\n",
       "      <td>1</td>\n",
       "      <td>1.2</td>\n",
       "      <td>1</td>\n",
       "      <td>N</td>\n",
       "      <td>238</td>\n",
       "      <td>239</td>\n",
       "      <td>1</td>\n",
       "      <td>...</td>\n",
       "      <td>3.0</td>\n",
       "      <td>0.5</td>\n",
       "      <td>1.47</td>\n",
       "      <td>0.0</td>\n",
       "      <td>0.3</td>\n",
       "      <td>11.27</td>\n",
       "      <td>2.5</td>\n",
       "      <td>48</td>\n",
       "      <td>2</td>\n",
       "      <td>0</td>\n",
       "    </tr>\n",
       "    <tr>\n",
       "      <th>1</th>\n",
       "      <td>1</td>\n",
       "      <td>2020-01-01 00:35:39</td>\n",
       "      <td>2020-01-01 00:43:04</td>\n",
       "      <td>1</td>\n",
       "      <td>1.2</td>\n",
       "      <td>1</td>\n",
       "      <td>N</td>\n",
       "      <td>239</td>\n",
       "      <td>238</td>\n",
       "      <td>1</td>\n",
       "      <td>...</td>\n",
       "      <td>3.0</td>\n",
       "      <td>0.5</td>\n",
       "      <td>1.50</td>\n",
       "      <td>0.0</td>\n",
       "      <td>0.3</td>\n",
       "      <td>12.30</td>\n",
       "      <td>2.5</td>\n",
       "      <td>25</td>\n",
       "      <td>2</td>\n",
       "      <td>0</td>\n",
       "    </tr>\n",
       "    <tr>\n",
       "      <th>2</th>\n",
       "      <td>1</td>\n",
       "      <td>2020-01-01 00:47:41</td>\n",
       "      <td>2020-01-01 00:53:52</td>\n",
       "      <td>1</td>\n",
       "      <td>0.6</td>\n",
       "      <td>1</td>\n",
       "      <td>N</td>\n",
       "      <td>238</td>\n",
       "      <td>238</td>\n",
       "      <td>1</td>\n",
       "      <td>...</td>\n",
       "      <td>3.0</td>\n",
       "      <td>0.5</td>\n",
       "      <td>1.00</td>\n",
       "      <td>0.0</td>\n",
       "      <td>0.3</td>\n",
       "      <td>10.80</td>\n",
       "      <td>2.5</td>\n",
       "      <td>11</td>\n",
       "      <td>2</td>\n",
       "      <td>0</td>\n",
       "    </tr>\n",
       "    <tr>\n",
       "      <th>3</th>\n",
       "      <td>1</td>\n",
       "      <td>2020-01-01 00:55:23</td>\n",
       "      <td>2020-01-01 01:00:14</td>\n",
       "      <td>1</td>\n",
       "      <td>0.8</td>\n",
       "      <td>1</td>\n",
       "      <td>N</td>\n",
       "      <td>238</td>\n",
       "      <td>151</td>\n",
       "      <td>1</td>\n",
       "      <td>...</td>\n",
       "      <td>0.5</td>\n",
       "      <td>0.5</td>\n",
       "      <td>1.36</td>\n",
       "      <td>0.0</td>\n",
       "      <td>0.3</td>\n",
       "      <td>8.16</td>\n",
       "      <td>0.0</td>\n",
       "      <td>51</td>\n",
       "      <td>2</td>\n",
       "      <td>0</td>\n",
       "    </tr>\n",
       "    <tr>\n",
       "      <th>4</th>\n",
       "      <td>2</td>\n",
       "      <td>2020-01-01 00:01:58</td>\n",
       "      <td>2020-01-01 00:04:16</td>\n",
       "      <td>1</td>\n",
       "      <td>0.0</td>\n",
       "      <td>1</td>\n",
       "      <td>N</td>\n",
       "      <td>193</td>\n",
       "      <td>193</td>\n",
       "      <td>2</td>\n",
       "      <td>...</td>\n",
       "      <td>0.5</td>\n",
       "      <td>0.5</td>\n",
       "      <td>0.00</td>\n",
       "      <td>0.0</td>\n",
       "      <td>0.3</td>\n",
       "      <td>4.80</td>\n",
       "      <td>0.0</td>\n",
       "      <td>18</td>\n",
       "      <td>2</td>\n",
       "      <td>0</td>\n",
       "    </tr>\n",
       "  </tbody>\n",
       "</table>\n",
       "<p>5 rows × 21 columns</p>\n",
       "</div>"
      ],
      "text/plain": [
       "   vendorid tpep_pickup_datetime tpep_dropoff_datetime  passenger_count  \\\n",
       "0         1  2020-01-01 00:28:15   2020-01-01 00:33:03                1   \n",
       "1         1  2020-01-01 00:35:39   2020-01-01 00:43:04                1   \n",
       "2         1  2020-01-01 00:47:41   2020-01-01 00:53:52                1   \n",
       "3         1  2020-01-01 00:55:23   2020-01-01 01:00:14                1   \n",
       "4         2  2020-01-01 00:01:58   2020-01-01 00:04:16                1   \n",
       "\n",
       "   trip_distance  ratecodeid store_and_fwd_flag  pulocationid  dolocationid  \\\n",
       "0            1.2           1                  N           238           239   \n",
       "1            1.2           1                  N           239           238   \n",
       "2            0.6           1                  N           238           238   \n",
       "3            0.8           1                  N           238           151   \n",
       "4            0.0           1                  N           193           193   \n",
       "\n",
       "   payment_type  ...  extra  mta_tax  tip_amount  tolls_amount  \\\n",
       "0             1  ...    3.0      0.5        1.47           0.0   \n",
       "1             1  ...    3.0      0.5        1.50           0.0   \n",
       "2             1  ...    3.0      0.5        1.00           0.0   \n",
       "3             1  ...    0.5      0.5        1.36           0.0   \n",
       "4             2  ...    0.5      0.5        0.00           0.0   \n",
       "\n",
       "   improvement_surcharge  total_amount  congestion_surcharge  time_difference  \\\n",
       "0                    0.3         11.27                   2.5               48   \n",
       "1                    0.3         12.30                   2.5               25   \n",
       "2                    0.3         10.80                   2.5               11   \n",
       "3                    0.3          8.16                   0.0               51   \n",
       "4                    0.3          4.80                   0.0               18   \n",
       "\n",
       "   weekday_num  pickup_hour  \n",
       "0            2            0  \n",
       "1            2            0  \n",
       "2            2            0  \n",
       "3            2            0  \n",
       "4            2            0  \n",
       "\n",
       "[5 rows x 21 columns]"
      ]
     },
     "execution_count": 30,
     "metadata": {},
     "output_type": "execute_result"
    }
   ],
   "source": [
    "taxi_df.head()"
   ]
  },
  {
   "cell_type": "code",
   "execution_count": 65,
   "id": "56c74bb0",
   "metadata": {},
   "outputs": [],
   "source": [
    "# Droping columns which are not necessary for The ML models\n",
    "\n",
    "ML_dur_df=taxi_df.drop(['vendorid','tpep_pickup_datetime','tpep_dropoff_datetime',\n",
    "                 'store_and_fwd_flag','ratecodeid','payment_type','total_amount','extra','mta_tax',\n",
    "                 'improvement_surcharge','congestion_surcharge',\"tip_amount\", \"tolls_amount\",\"fare_amount\"], axis=1)"
   ]
  },
  {
   "cell_type": "code",
   "execution_count": 66,
   "id": "cdb3855a",
   "metadata": {},
   "outputs": [],
   "source": [
    "# This command will supress warning raised when chained assignments are used\n",
    "\n",
    "pd.options.mode.chained_assignment = None"
   ]
  },
  {
   "cell_type": "code",
   "execution_count": 67,
   "id": "7f4b34b9",
   "metadata": {},
   "outputs": [
    {
     "data": {
      "text/html": [
       "<div>\n",
       "<style scoped>\n",
       "    .dataframe tbody tr th:only-of-type {\n",
       "        vertical-align: middle;\n",
       "    }\n",
       "\n",
       "    .dataframe tbody tr th {\n",
       "        vertical-align: top;\n",
       "    }\n",
       "\n",
       "    .dataframe thead th {\n",
       "        text-align: right;\n",
       "    }\n",
       "</style>\n",
       "<table border=\"1\" class=\"dataframe\">\n",
       "  <thead>\n",
       "    <tr style=\"text-align: right;\">\n",
       "      <th></th>\n",
       "      <th>passenger_count</th>\n",
       "      <th>trip_distance</th>\n",
       "      <th>pulocationid</th>\n",
       "      <th>dolocationid</th>\n",
       "      <th>time_difference</th>\n",
       "      <th>weekday_num</th>\n",
       "      <th>pickup_hour</th>\n",
       "    </tr>\n",
       "  </thead>\n",
       "  <tbody>\n",
       "    <tr>\n",
       "      <th>0</th>\n",
       "      <td>1</td>\n",
       "      <td>1.2</td>\n",
       "      <td>238</td>\n",
       "      <td>239</td>\n",
       "      <td>48</td>\n",
       "      <td>2</td>\n",
       "      <td>0</td>\n",
       "    </tr>\n",
       "    <tr>\n",
       "      <th>1</th>\n",
       "      <td>1</td>\n",
       "      <td>1.2</td>\n",
       "      <td>239</td>\n",
       "      <td>238</td>\n",
       "      <td>25</td>\n",
       "      <td>2</td>\n",
       "      <td>0</td>\n",
       "    </tr>\n",
       "    <tr>\n",
       "      <th>2</th>\n",
       "      <td>1</td>\n",
       "      <td>0.6</td>\n",
       "      <td>238</td>\n",
       "      <td>238</td>\n",
       "      <td>11</td>\n",
       "      <td>2</td>\n",
       "      <td>0</td>\n",
       "    </tr>\n",
       "    <tr>\n",
       "      <th>3</th>\n",
       "      <td>1</td>\n",
       "      <td>0.8</td>\n",
       "      <td>238</td>\n",
       "      <td>151</td>\n",
       "      <td>51</td>\n",
       "      <td>2</td>\n",
       "      <td>0</td>\n",
       "    </tr>\n",
       "    <tr>\n",
       "      <th>4</th>\n",
       "      <td>1</td>\n",
       "      <td>0.0</td>\n",
       "      <td>193</td>\n",
       "      <td>193</td>\n",
       "      <td>18</td>\n",
       "      <td>2</td>\n",
       "      <td>0</td>\n",
       "    </tr>\n",
       "  </tbody>\n",
       "</table>\n",
       "</div>"
      ],
      "text/plain": [
       "   passenger_count  trip_distance  pulocationid  dolocationid  \\\n",
       "0                1            1.2           238           239   \n",
       "1                1            1.2           239           238   \n",
       "2                1            0.6           238           238   \n",
       "3                1            0.8           238           151   \n",
       "4                1            0.0           193           193   \n",
       "\n",
       "   time_difference  weekday_num  pickup_hour  \n",
       "0               48            2            0  \n",
       "1               25            2            0  \n",
       "2               11            2            0  \n",
       "3               51            2            0  \n",
       "4               18            2            0  "
      ]
     },
     "execution_count": 67,
     "metadata": {},
     "output_type": "execute_result"
    }
   ],
   "source": [
    "ML_dur_df.head()"
   ]
  },
  {
   "cell_type": "code",
   "execution_count": 68,
   "id": "1fc7bef0",
   "metadata": {},
   "outputs": [],
   "source": [
    "#Spliting the data into test and train\n",
    "# We are going to use trip distance, PULocationID, DOLocationID, Weekday number and Pickup Hour as the feature elements to predict Taxi fares\n",
    "# passenger_count,PULocationID,DOLocationID,weekday_num,pickup_hour\n",
    "x = ML_dur_df.iloc[:, [0,1,2,3,5,6]].values\n",
    "y = ML_dur_df.iloc[:,4].values\n",
    "x_train, x_test, y_train, y_test = train_test_split(x, y, test_size=0.2,random_state = 7395)"
   ]
  },
  {
   "cell_type": "code",
   "execution_count": 69,
   "id": "deb945bb",
   "metadata": {},
   "outputs": [
    {
     "data": {
      "image/png": "[encoded data removed]",
      "text/plain": [
       "<Figure size 640x480 with 1 Axes>"
      ]
     },
     "metadata": {},
     "output_type": "display_data"
    }
   ],
   "source": [
    "# Uisng PCA to determine necessary number of components for the model to yeild a better result\n",
    "\n",
    "from sklearn.decomposition import PCA\n",
    "pca = PCA().fit(x_train)\n",
    "plt.plot(np.cumsum(pca.explained_variance_ratio_))\n",
    "plt.xlabel(\"number of components\")\n",
    "plt.ylabel(\"Cumulative explained variance\")\n",
    "plt.show()"
   ]
  },
  {
   "cell_type": "code",
   "execution_count": 70,
   "id": "d775e77e",
   "metadata": {},
   "outputs": [
    {
     "data": {
      "text/plain": [
       "[(1, 55.66), (2, 99.4), (3, 99.79), (4, 99.95), (5, 99.98)]"
      ]
     },
     "execution_count": 70,
     "metadata": {},
     "output_type": "execute_result"
    }
   ],
   "source": [
    "arr = np.cumsum(np.round(pca.explained_variance_ratio_, decimals=4)*100)\n",
    "list(zip(range(1,len(arr)), arr))"
   ]
  },
  {
   "cell_type": "code",
   "execution_count": 71,
   "id": "35f1565c",
   "metadata": {},
   "outputs": [
    {
     "data": {
      "image/png": "[encoded data removed]",
      "text/plain": [
       "<Figure size 1200x1200 with 2 Axes>"
      ]
     },
     "metadata": {},
     "output_type": "display_data"
    }
   ],
   "source": [
    "# Plotting the heatmap to understand the correlation between the factors\n",
    "\n",
    "plt.figure(figsize=(12,12))\n",
    "corr = pd.DataFrame(x_train[:,0:]).corr()\n",
    "corr.index = pd.DataFrame(x_train[:,0:]).columns\n",
    "sns.heatmap(corr, cmap='RdYlGn', vmin=-1, vmax=1, square=True)\n",
    "plt.title(\"Correlation Heatmap\", fontsize=16)\n",
    "plt.show()"
   ]
  },
  {
   "cell_type": "code",
   "execution_count": 72,
   "id": "e95b49eb",
   "metadata": {},
   "outputs": [
    {
     "name": "stdout",
     "output_type": "stream",
     "text": [
      "Time taken to train linear regression model : 0.2922251224517822 seconds\n"
     ]
    }
   ],
   "source": [
    "# Running The Linear regression model\n",
    "\n",
    "start_time = time.time()\n",
    "lm_regression = LinearRegression()\n",
    "lm_regression = lm_regression.fit(x_train, y_train)\n",
    "end_time = time.time()\n",
    "lm_time = (end_time - start_time)\n",
    "print(f\"Time taken to train linear regression model : {lm_time} seconds\")"
   ]
  },
  {
   "cell_type": "code",
   "execution_count": 73,
   "id": "5e8970e8",
   "metadata": {},
   "outputs": [
    {
     "data": {
      "text/html": [
       "<div>\n",
       "<style scoped>\n",
       "    .dataframe tbody tr th:only-of-type {\n",
       "        vertical-align: middle;\n",
       "    }\n",
       "\n",
       "    .dataframe tbody tr th {\n",
       "        vertical-align: top;\n",
       "    }\n",
       "\n",
       "    .dataframe thead th {\n",
       "        text-align: right;\n",
       "    }\n",
       "</style>\n",
       "<table border=\"1\" class=\"dataframe\">\n",
       "  <thead>\n",
       "    <tr style=\"text-align: right;\">\n",
       "      <th></th>\n",
       "      <th>Actual</th>\n",
       "      <th>Predicted</th>\n",
       "    </tr>\n",
       "  </thead>\n",
       "  <tbody>\n",
       "    <tr>\n",
       "      <th>0</th>\n",
       "      <td>17</td>\n",
       "      <td>29.381181</td>\n",
       "    </tr>\n",
       "    <tr>\n",
       "      <th>1</th>\n",
       "      <td>45</td>\n",
       "      <td>29.291556</td>\n",
       "    </tr>\n",
       "    <tr>\n",
       "      <th>2</th>\n",
       "      <td>49</td>\n",
       "      <td>29.254827</td>\n",
       "    </tr>\n",
       "    <tr>\n",
       "      <th>3</th>\n",
       "      <td>19</td>\n",
       "      <td>29.298895</td>\n",
       "    </tr>\n",
       "    <tr>\n",
       "      <th>4</th>\n",
       "      <td>42</td>\n",
       "      <td>29.313515</td>\n",
       "    </tr>\n",
       "    <tr>\n",
       "      <th>...</th>\n",
       "      <td>...</td>\n",
       "      <td>...</td>\n",
       "    </tr>\n",
       "    <tr>\n",
       "      <th>390837</th>\n",
       "      <td>1</td>\n",
       "      <td>29.302222</td>\n",
       "    </tr>\n",
       "    <tr>\n",
       "      <th>390838</th>\n",
       "      <td>32</td>\n",
       "      <td>29.519038</td>\n",
       "    </tr>\n",
       "    <tr>\n",
       "      <th>390839</th>\n",
       "      <td>56</td>\n",
       "      <td>29.286187</td>\n",
       "    </tr>\n",
       "    <tr>\n",
       "      <th>390840</th>\n",
       "      <td>53</td>\n",
       "      <td>29.209446</td>\n",
       "    </tr>\n",
       "    <tr>\n",
       "      <th>390841</th>\n",
       "      <td>32</td>\n",
       "      <td>29.259495</td>\n",
       "    </tr>\n",
       "  </tbody>\n",
       "</table>\n",
       "<p>390842 rows × 2 columns</p>\n",
       "</div>"
      ],
      "text/plain": [
       "        Actual  Predicted\n",
       "0           17  29.381181\n",
       "1           45  29.291556\n",
       "2           49  29.254827\n",
       "3           19  29.298895\n",
       "4           42  29.313515\n",
       "...        ...        ...\n",
       "390837       1  29.302222\n",
       "390838      32  29.519038\n",
       "390839      56  29.286187\n",
       "390840      53  29.209446\n",
       "390841      32  29.259495\n",
       "\n",
       "[390842 rows x 2 columns]"
      ]
     },
     "execution_count": 73,
     "metadata": {},
     "output_type": "execute_result"
    }
   ],
   "source": [
    "lm_regression_trips = lm_regression.predict(x_test)\n",
    "# Generating prediction for Linear Regression model\n",
    "\n",
    "predictions = pd.DataFrame({'Actual': y_test.flatten(), 'Predicted': lm_regression_trips.flatten()})\n",
    "predictions"
   ]
  },
  {
   "cell_type": "code",
   "execution_count": 74,
   "id": "05378ffb",
   "metadata": {},
   "outputs": [
    {
     "data": {
      "image/png": "[encoded data removed]",
      "text/plain": [
       "<Figure size 1400x800 with 1 Axes>"
      ]
     },
     "metadata": {},
     "output_type": "display_data"
    }
   ],
   "source": [
    "#Plotting Actuall vs Predicted Values\n",
    "\n",
    "predictions.sample(20).plot(kind='bar',figsize=(14,8))\n",
    "plt.grid(which='major', linestyle='-', linewidth='0.5', color='green')\n",
    "plt.grid(which='minor', linestyle=':', linewidth='0.5', color='black')\n",
    "plt.show()"
   ]
  },
  {
   "cell_type": "code",
   "execution_count": 122,
   "id": "c3e056f4",
   "metadata": {},
   "outputs": [
    {
     "name": "stdout",
     "output_type": "stream",
     "text": [
      "7.448216124950058e-05\n"
     ]
    }
   ],
   "source": [
    "#Getting The R Squared Value\n",
    "\n",
    "lm_score = r2_score(y_test, lm_regression_trips)\n",
    "print(lm_score)"
   ]
  },
  {
   "cell_type": "code",
   "execution_count": 123,
   "id": "8b2d77e1",
   "metadata": {},
   "outputs": [
    {
     "name": "stdout",
     "output_type": "stream",
     "text": [
      "Time taken to train Decision tree model : 19.693948984146118 seconds\n"
     ]
    }
   ],
   "source": [
    "# Running the Decision Tree Regressor\n",
    "\n",
    "start_time = time.time()\n",
    "dt_regression = DecisionTreeRegressor()\n",
    "dt_regression = dt_regression.fit(x_train, y_train)\n",
    "end_time = time.time()\n",
    "dt_time = (end_time - start_time)\n",
    "print(f\"Time taken to train Decision tree model : {dt_time} seconds\")"
   ]
  },
  {
   "cell_type": "code",
   "execution_count": 124,
   "id": "53dbefc1",
   "metadata": {},
   "outputs": [],
   "source": [
    "dt_regression_trips = dt_regression.predict(x_test)"
   ]
  },
  {
   "cell_type": "code",
   "execution_count": 125,
   "id": "cf578d22",
   "metadata": {},
   "outputs": [
    {
     "data": {
      "text/html": [
       "<div>\n",
       "<style scoped>\n",
       "    .dataframe tbody tr th:only-of-type {\n",
       "        vertical-align: middle;\n",
       "    }\n",
       "\n",
       "    .dataframe tbody tr th {\n",
       "        vertical-align: top;\n",
       "    }\n",
       "\n",
       "    .dataframe thead th {\n",
       "        text-align: right;\n",
       "    }\n",
       "</style>\n",
       "<table border=\"1\" class=\"dataframe\">\n",
       "  <thead>\n",
       "    <tr style=\"text-align: right;\">\n",
       "      <th></th>\n",
       "      <th>Actual</th>\n",
       "      <th>Predicted</th>\n",
       "    </tr>\n",
       "  </thead>\n",
       "  <tbody>\n",
       "    <tr>\n",
       "      <th>0</th>\n",
       "      <td>17</td>\n",
       "      <td>28.5</td>\n",
       "    </tr>\n",
       "    <tr>\n",
       "      <th>1</th>\n",
       "      <td>45</td>\n",
       "      <td>5.0</td>\n",
       "    </tr>\n",
       "    <tr>\n",
       "      <th>2</th>\n",
       "      <td>49</td>\n",
       "      <td>3.0</td>\n",
       "    </tr>\n",
       "    <tr>\n",
       "      <th>3</th>\n",
       "      <td>19</td>\n",
       "      <td>58.0</td>\n",
       "    </tr>\n",
       "    <tr>\n",
       "      <th>4</th>\n",
       "      <td>42</td>\n",
       "      <td>17.0</td>\n",
       "    </tr>\n",
       "    <tr>\n",
       "      <th>...</th>\n",
       "      <td>...</td>\n",
       "      <td>...</td>\n",
       "    </tr>\n",
       "    <tr>\n",
       "      <th>390837</th>\n",
       "      <td>1</td>\n",
       "      <td>12.5</td>\n",
       "    </tr>\n",
       "    <tr>\n",
       "      <th>390838</th>\n",
       "      <td>32</td>\n",
       "      <td>26.0</td>\n",
       "    </tr>\n",
       "    <tr>\n",
       "      <th>390839</th>\n",
       "      <td>56</td>\n",
       "      <td>21.0</td>\n",
       "    </tr>\n",
       "    <tr>\n",
       "      <th>390840</th>\n",
       "      <td>53</td>\n",
       "      <td>34.0</td>\n",
       "    </tr>\n",
       "    <tr>\n",
       "      <th>390841</th>\n",
       "      <td>32</td>\n",
       "      <td>58.0</td>\n",
       "    </tr>\n",
       "  </tbody>\n",
       "</table>\n",
       "<p>390842 rows × 2 columns</p>\n",
       "</div>"
      ],
      "text/plain": [
       "        Actual  Predicted\n",
       "0           17       28.5\n",
       "1           45        5.0\n",
       "2           49        3.0\n",
       "3           19       58.0\n",
       "4           42       17.0\n",
       "...        ...        ...\n",
       "390837       1       12.5\n",
       "390838      32       26.0\n",
       "390839      56       21.0\n",
       "390840      53       34.0\n",
       "390841      32       58.0\n",
       "\n",
       "[390842 rows x 2 columns]"
      ]
     },
     "execution_count": 125,
     "metadata": {},
     "output_type": "execute_result"
    }
   ],
   "source": [
    "# Generating prediction for Decission Tree Regressor model\n",
    "\n",
    "predictions = pd.DataFrame({'Actual': y_test.flatten(), 'Predicted': dt_regression_trips.flatten()})\n",
    "predictions"
   ]
  },
  {
   "cell_type": "code",
   "execution_count": 126,
   "id": "a38b4f89",
   "metadata": {},
   "outputs": [
    {
     "data": {
      "image/png": "[encoded data removed]",
      "text/plain": [
       "<Figure size 1400x800 with 1 Axes>"
      ]
     },
     "metadata": {},
     "output_type": "display_data"
    }
   ],
   "source": [
    "predictions.sample(20).plot(kind='bar',figsize=(14,8))\n",
    "plt.grid(which='major', linestyle='-', linewidth='0.5', color='green')\n",
    "plt.grid(which='minor', linestyle=':', linewidth='0.5', color='black')\n",
    "plt.show()"
   ]
  },
  {
   "cell_type": "code",
   "execution_count": 127,
   "id": "f4513390",
   "metadata": {},
   "outputs": [
    {
     "name": "stdout",
     "output_type": "stream",
     "text": [
      "-1.0110138637270536\n"
     ]
    }
   ],
   "source": [
    "#Getting The R Squared Value\n",
    "\n",
    "dt_score = r2_score(y_test, dt_regression_trips)\n",
    "print(dt_score)"
   ]
  },
  {
   "cell_type": "code",
   "execution_count": 128,
   "id": "9211190c",
   "metadata": {},
   "outputs": [
    {
     "name": "stdout",
     "output_type": "stream",
     "text": [
      "Time taken to train AdaBoost model : 31.96601915359497 seconds\n"
     ]
    }
   ],
   "source": [
    "# Running The AdaBoostRegressor model\n",
    "\n",
    "start_time = time.time()\n",
    "ada_regression = AdaBoostRegressor()\n",
    "ada_regression = ada_regression.fit(x_train, y_train)\n",
    "end_time = time.time()\n",
    "ad_time = (end_time - start_time)\n",
    "print(f\"Time taken to train AdaBoost model : {ad_time} seconds\")"
   ]
  },
  {
   "cell_type": "code",
   "execution_count": 129,
   "id": "450b3176",
   "metadata": {},
   "outputs": [],
   "source": [
    "ada_trips = ada_regression.predict(x_test)"
   ]
  },
  {
   "cell_type": "code",
   "execution_count": 130,
   "id": "fb5b3de6",
   "metadata": {},
   "outputs": [
    {
     "data": {
      "text/html": [
       "<div>\n",
       "<style scoped>\n",
       "    .dataframe tbody tr th:only-of-type {\n",
       "        vertical-align: middle;\n",
       "    }\n",
       "\n",
       "    .dataframe tbody tr th {\n",
       "        vertical-align: top;\n",
       "    }\n",
       "\n",
       "    .dataframe thead th {\n",
       "        text-align: right;\n",
       "    }\n",
       "</style>\n",
       "<table border=\"1\" class=\"dataframe\">\n",
       "  <thead>\n",
       "    <tr style=\"text-align: right;\">\n",
       "      <th></th>\n",
       "      <th>Actual</th>\n",
       "      <th>Predicted</th>\n",
       "    </tr>\n",
       "  </thead>\n",
       "  <tbody>\n",
       "    <tr>\n",
       "      <th>0</th>\n",
       "      <td>17</td>\n",
       "      <td>29.47777</td>\n",
       "    </tr>\n",
       "    <tr>\n",
       "      <th>1</th>\n",
       "      <td>45</td>\n",
       "      <td>29.47777</td>\n",
       "    </tr>\n",
       "    <tr>\n",
       "      <th>2</th>\n",
       "      <td>49</td>\n",
       "      <td>29.47777</td>\n",
       "    </tr>\n",
       "    <tr>\n",
       "      <th>3</th>\n",
       "      <td>19</td>\n",
       "      <td>29.47777</td>\n",
       "    </tr>\n",
       "    <tr>\n",
       "      <th>4</th>\n",
       "      <td>42</td>\n",
       "      <td>29.47329</td>\n",
       "    </tr>\n",
       "    <tr>\n",
       "      <th>...</th>\n",
       "      <td>...</td>\n",
       "      <td>...</td>\n",
       "    </tr>\n",
       "    <tr>\n",
       "      <th>390837</th>\n",
       "      <td>1</td>\n",
       "      <td>29.47329</td>\n",
       "    </tr>\n",
       "    <tr>\n",
       "      <th>390838</th>\n",
       "      <td>32</td>\n",
       "      <td>29.47777</td>\n",
       "    </tr>\n",
       "    <tr>\n",
       "      <th>390839</th>\n",
       "      <td>56</td>\n",
       "      <td>29.47777</td>\n",
       "    </tr>\n",
       "    <tr>\n",
       "      <th>390840</th>\n",
       "      <td>53</td>\n",
       "      <td>29.47777</td>\n",
       "    </tr>\n",
       "    <tr>\n",
       "      <th>390841</th>\n",
       "      <td>32</td>\n",
       "      <td>29.47777</td>\n",
       "    </tr>\n",
       "  </tbody>\n",
       "</table>\n",
       "<p>390842 rows × 2 columns</p>\n",
       "</div>"
      ],
      "text/plain": [
       "        Actual  Predicted\n",
       "0           17   29.47777\n",
       "1           45   29.47777\n",
       "2           49   29.47777\n",
       "3           19   29.47777\n",
       "4           42   29.47329\n",
       "...        ...        ...\n",
       "390837       1   29.47329\n",
       "390838      32   29.47777\n",
       "390839      56   29.47777\n",
       "390840      53   29.47777\n",
       "390841      32   29.47777\n",
       "\n",
       "[390842 rows x 2 columns]"
      ]
     },
     "execution_count": 130,
     "metadata": {},
     "output_type": "execute_result"
    }
   ],
   "source": [
    "predictions = pd.DataFrame({'Actual': y_test.flatten(), 'Predicted': ada_trips.flatten()})\n",
    "predictions"
   ]
  },
  {
   "cell_type": "code",
   "execution_count": 131,
   "id": "2368fb11",
   "metadata": {},
   "outputs": [
    {
     "data": {
      "image/png": "[encoded data removed]",
      "text/plain": [
       "<Figure size 1400x800 with 1 Axes>"
      ]
     },
     "metadata": {},
     "output_type": "display_data"
    }
   ],
   "source": [
    "predictions.sample(20).plot(kind='bar',figsize=(14,8))\n",
    "plt.grid(which='major', linestyle='-', linewidth='0.5', color='green')\n",
    "plt.grid(which='minor', linestyle=':', linewidth='0.5', color='black')\n",
    "plt.show()"
   ]
  },
  {
   "cell_type": "code",
   "execution_count": 132,
   "id": "f692f10a",
   "metadata": {},
   "outputs": [
    {
     "name": "stdout",
     "output_type": "stream",
     "text": [
      "0.006086483696368661\n"
     ]
    }
   ],
   "source": [
    "#Getting The R Squared Value\n",
    "\n",
    "ad_score = r2_score(y_test, ada_trips)\n",
    "print(ad_score)"
   ]
  },
  {
   "cell_type": "code",
   "execution_count": 133,
   "id": "d0e3af7e",
   "metadata": {},
   "outputs": [
    {
     "name": "stdout",
     "output_type": "stream",
     "text": [
      "Time taken to train Gradient Boost model : 175.3906900882721 seconds\n"
     ]
    }
   ],
   "source": [
    "# Running The GradientBoostRegressor model\n",
    "\n",
    "start_time = time.time()\n",
    "gd_regression = GradientBoostingRegressor()\n",
    "gd_regression = gd_regression.fit(x_train, y_train)\n",
    "end_time = time.time()\n",
    "gd_time = (end_time - start_time)\n",
    "print(f\"Time taken to train Gradient Boost model : {gd_time} seconds\")"
   ]
  },
  {
   "cell_type": "code",
   "execution_count": 134,
   "id": "a17b3ef5",
   "metadata": {},
   "outputs": [],
   "source": [
    "gd_trips = gd_regression.predict(x_test)"
   ]
  },
  {
   "cell_type": "code",
   "execution_count": 135,
   "id": "94ad5847",
   "metadata": {},
   "outputs": [
    {
     "data": {
      "text/html": [
       "<div>\n",
       "<style scoped>\n",
       "    .dataframe tbody tr th:only-of-type {\n",
       "        vertical-align: middle;\n",
       "    }\n",
       "\n",
       "    .dataframe tbody tr th {\n",
       "        vertical-align: top;\n",
       "    }\n",
       "\n",
       "    .dataframe thead th {\n",
       "        text-align: right;\n",
       "    }\n",
       "</style>\n",
       "<table border=\"1\" class=\"dataframe\">\n",
       "  <thead>\n",
       "    <tr style=\"text-align: right;\">\n",
       "      <th></th>\n",
       "      <th>Actual</th>\n",
       "      <th>Predicted</th>\n",
       "    </tr>\n",
       "  </thead>\n",
       "  <tbody>\n",
       "    <tr>\n",
       "      <th>0</th>\n",
       "      <td>17</td>\n",
       "      <td>29.436315</td>\n",
       "    </tr>\n",
       "    <tr>\n",
       "      <th>1</th>\n",
       "      <td>45</td>\n",
       "      <td>29.547968</td>\n",
       "    </tr>\n",
       "    <tr>\n",
       "      <th>2</th>\n",
       "      <td>49</td>\n",
       "      <td>29.479651</td>\n",
       "    </tr>\n",
       "    <tr>\n",
       "      <th>3</th>\n",
       "      <td>19</td>\n",
       "      <td>29.462370</td>\n",
       "    </tr>\n",
       "    <tr>\n",
       "      <th>4</th>\n",
       "      <td>42</td>\n",
       "      <td>29.419362</td>\n",
       "    </tr>\n",
       "    <tr>\n",
       "      <th>...</th>\n",
       "      <td>...</td>\n",
       "      <td>...</td>\n",
       "    </tr>\n",
       "    <tr>\n",
       "      <th>390837</th>\n",
       "      <td>1</td>\n",
       "      <td>29.427579</td>\n",
       "    </tr>\n",
       "    <tr>\n",
       "      <th>390838</th>\n",
       "      <td>32</td>\n",
       "      <td>29.516612</td>\n",
       "    </tr>\n",
       "    <tr>\n",
       "      <th>390839</th>\n",
       "      <td>56</td>\n",
       "      <td>29.456226</td>\n",
       "    </tr>\n",
       "    <tr>\n",
       "      <th>390840</th>\n",
       "      <td>53</td>\n",
       "      <td>29.523252</td>\n",
       "    </tr>\n",
       "    <tr>\n",
       "      <th>390841</th>\n",
       "      <td>32</td>\n",
       "      <td>29.458384</td>\n",
       "    </tr>\n",
       "  </tbody>\n",
       "</table>\n",
       "<p>390842 rows × 2 columns</p>\n",
       "</div>"
      ],
      "text/plain": [
       "        Actual  Predicted\n",
       "0           17  29.436315\n",
       "1           45  29.547968\n",
       "2           49  29.479651\n",
       "3           19  29.462370\n",
       "4           42  29.419362\n",
       "...        ...        ...\n",
       "390837       1  29.427579\n",
       "390838      32  29.516612\n",
       "390839      56  29.456226\n",
       "390840      53  29.523252\n",
       "390841      32  29.458384\n",
       "\n",
       "[390842 rows x 2 columns]"
      ]
     },
     "execution_count": 135,
     "metadata": {},
     "output_type": "execute_result"
    }
   ],
   "source": [
    "predictions = pd.DataFrame({'Actual': y_test.flatten(), 'Predicted': gd_trips.flatten()})\n",
    "predictions"
   ]
  },
  {
   "cell_type": "code",
   "execution_count": 136,
   "id": "ccd7b6d7",
   "metadata": {},
   "outputs": [
    {
     "data": {
      "image/png": "[encoded data removed]",
      "text/plain": [
       "<Figure size 1400x800 with 1 Axes>"
      ]
     },
     "metadata": {},
     "output_type": "display_data"
    }
   ],
   "source": [
    "predictions.sample(20).plot(kind='bar',figsize=(14,8))\n",
    "plt.grid(which='major', linestyle='-', linewidth='0.5', color='green')\n",
    "plt.grid(which='minor', linestyle=':', linewidth='0.5', color='black')\n",
    "plt.show()"
   ]
  },
  {
   "cell_type": "code",
   "execution_count": 137,
   "id": "b914a2e1",
   "metadata": {},
   "outputs": [
    {
     "name": "stdout",
     "output_type": "stream",
     "text": [
      "0.006591493413443672\n"
     ]
    }
   ],
   "source": [
    "#Getting The R Squared Value\n",
    "\n",
    "gd_score = r2_score(y_test, gd_trips)\n",
    "print(gd_score)"
   ]
  },
  {
   "cell_type": "code",
   "execution_count": 138,
   "id": "5619663f",
   "metadata": {},
   "outputs": [
    {
     "name": "stdout",
     "output_type": "stream",
     "text": [
      "Time taken to train XGBoost  model : 5.7103493213653564 seconds\n"
     ]
    }
   ],
   "source": [
    "# Running The XGBRegressor model\n",
    "\n",
    "start_time = time.time()\n",
    "xgb_regression = XGBRegressor(objective ='reg:squarederror')\n",
    "xgb_regression = xgb_regression.fit(x_train, y_train)\n",
    "end_time = time.time()\n",
    "xgb_time = (end_time - start_time)\n",
    "print(f\"Time taken to train XGBoost  model : {xgb_time} seconds\")"
   ]
  },
  {
   "cell_type": "code",
   "execution_count": 139,
   "id": "40e7842b",
   "metadata": {},
   "outputs": [],
   "source": [
    "XGB_trips = xgb_regression.predict(x_test)"
   ]
  },
  {
   "cell_type": "code",
   "execution_count": 140,
   "id": "119883a8",
   "metadata": {},
   "outputs": [
    {
     "data": {
      "text/html": [
       "<div>\n",
       "<style scoped>\n",
       "    .dataframe tbody tr th:only-of-type {\n",
       "        vertical-align: middle;\n",
       "    }\n",
       "\n",
       "    .dataframe tbody tr th {\n",
       "        vertical-align: top;\n",
       "    }\n",
       "\n",
       "    .dataframe thead th {\n",
       "        text-align: right;\n",
       "    }\n",
       "</style>\n",
       "<table border=\"1\" class=\"dataframe\">\n",
       "  <thead>\n",
       "    <tr style=\"text-align: right;\">\n",
       "      <th></th>\n",
       "      <th>Actual</th>\n",
       "      <th>Predicted</th>\n",
       "    </tr>\n",
       "  </thead>\n",
       "  <tbody>\n",
       "    <tr>\n",
       "      <th>0</th>\n",
       "      <td>17</td>\n",
       "      <td>29.395296</td>\n",
       "    </tr>\n",
       "    <tr>\n",
       "      <th>1</th>\n",
       "      <td>45</td>\n",
       "      <td>29.777456</td>\n",
       "    </tr>\n",
       "    <tr>\n",
       "      <th>2</th>\n",
       "      <td>49</td>\n",
       "      <td>29.884382</td>\n",
       "    </tr>\n",
       "    <tr>\n",
       "      <th>3</th>\n",
       "      <td>19</td>\n",
       "      <td>29.498297</td>\n",
       "    </tr>\n",
       "    <tr>\n",
       "      <th>4</th>\n",
       "      <td>42</td>\n",
       "      <td>29.590609</td>\n",
       "    </tr>\n",
       "    <tr>\n",
       "      <th>...</th>\n",
       "      <td>...</td>\n",
       "      <td>...</td>\n",
       "    </tr>\n",
       "    <tr>\n",
       "      <th>390837</th>\n",
       "      <td>1</td>\n",
       "      <td>29.545792</td>\n",
       "    </tr>\n",
       "    <tr>\n",
       "      <th>390838</th>\n",
       "      <td>32</td>\n",
       "      <td>29.905117</td>\n",
       "    </tr>\n",
       "    <tr>\n",
       "      <th>390839</th>\n",
       "      <td>56</td>\n",
       "      <td>28.997890</td>\n",
       "    </tr>\n",
       "    <tr>\n",
       "      <th>390840</th>\n",
       "      <td>53</td>\n",
       "      <td>29.313778</td>\n",
       "    </tr>\n",
       "    <tr>\n",
       "      <th>390841</th>\n",
       "      <td>32</td>\n",
       "      <td>29.396154</td>\n",
       "    </tr>\n",
       "  </tbody>\n",
       "</table>\n",
       "<p>390842 rows × 2 columns</p>\n",
       "</div>"
      ],
      "text/plain": [
       "        Actual  Predicted\n",
       "0           17  29.395296\n",
       "1           45  29.777456\n",
       "2           49  29.884382\n",
       "3           19  29.498297\n",
       "4           42  29.590609\n",
       "...        ...        ...\n",
       "390837       1  29.545792\n",
       "390838      32  29.905117\n",
       "390839      56  28.997890\n",
       "390840      53  29.313778\n",
       "390841      32  29.396154\n",
       "\n",
       "[390842 rows x 2 columns]"
      ]
     },
     "execution_count": 140,
     "metadata": {},
     "output_type": "execute_result"
    }
   ],
   "source": [
    "predictions = pd.DataFrame({'Actual': y_test.flatten(), 'Predicted': XGB_trips.flatten()})\n",
    "predictions"
   ]
  },
  {
   "cell_type": "code",
   "execution_count": 141,
   "id": "a85fb3fa",
   "metadata": {},
   "outputs": [
    {
     "data": {
      "image/png": "[encoded data removed]",
      "text/plain": [
       "<Figure size 1400x800 with 1 Axes>"
      ]
     },
     "metadata": {},
     "output_type": "display_data"
    }
   ],
   "source": [
    "predictions.sample(20).plot(kind='bar',figsize=(14,8))\n",
    "plt.grid(which='major', linestyle='-', linewidth='0.5', color='green')\n",
    "plt.grid(which='minor', linestyle=':', linewidth='0.5', color='black')\n",
    "plt.show()"
   ]
  },
  {
   "cell_type": "code",
   "execution_count": 142,
   "id": "2d82e28e",
   "metadata": {},
   "outputs": [
    {
     "name": "stdout",
     "output_type": "stream",
     "text": [
      "0.005548253987513574\n"
     ]
    }
   ],
   "source": [
    "#Getting The R Squared Value\n",
    "\n",
    "xgb_score = r2_score(y_test, XGB_trips)\n",
    "print(xgb_score)"
   ]
  },
  {
   "cell_type": "code",
   "execution_count": 143,
   "id": "b1d27775",
   "metadata": {},
   "outputs": [],
   "source": [
    "# Creating Accuracy and Time Dataframe\n",
    "\n",
    "#r2 = [lm_score, dt_score, ad_score, gd_score, xgb_score]\n",
    "#tm = [lm_time, dt_time, ad_time, gd_time, xgb_time]\n",
    "#comp = pd.DataFrame({'Time': tm, 'Accu': r2})\n",
    "\n",
    "r2 = [100 - (lm_score), 100 - (dt_score), 100 - (gd_score), 100 - (xgb_score)]\n",
    "tm = [lm_time, dt_time, gd_time, xgb_time]\n",
    "comp = pd.DataFrame({'Time': tm, 'Accu': r2})"
   ]
  },
  {
   "cell_type": "code",
   "execution_count": 144,
   "id": "c30102ad",
   "metadata": {},
   "outputs": [
    {
     "data": {
      "image/png": "[encoded data removed]",
      "text/plain": [
       "<Figure size 1200x500 with 2 Axes>"
      ]
     },
     "metadata": {},
     "output_type": "display_data"
    }
   ],
   "source": [
    "# Comparing All models based on time taken to implement and Accuracy\n",
    "\n",
    "label = ['LM', 'DT', 'GDB', 'XGB']\n",
    "fig, axes = plt.subplots(nrows=1, ncols=2,figsize=(12,5))\n",
    "ax = comp['Time'].plot(kind='bar',title=\"Time\",ax=axes[0],color = (1, 0.5, 0.13))\n",
    "ax1 = comp['Accu'].plot(kind='bar',title=\"Accuarcy\",ax=axes[1])\n",
    "ax.set_ylabel(\"Time (secs)\")\n",
    "ax.set_xlabel('Models')\n",
    "ax.set_xticklabels(label)\n",
    "ax1.set_ylabel(\"Accuracy\")\n",
    "ax1.set_xlabel('Models')\n",
    "ax1.set_xticklabels(label)\n",
    "fig.tight_layout()"
   ]
  },
  {
   "cell_type": "code",
   "execution_count": null,
   "id": "d3c98faa-7128-4f34-bf3a-be4dbd0d3a35",
   "metadata": {},
   "outputs": [],
   "source": []
  }
 ],
 "metadata": {
  "kernelspec": {
   "display_name": "Python 3 (ipykernel)",
   "language": "python",
   "name": "python3"
  },
  "language_info": {
   "codemirror_mode": {
    "name": "ipython",
    "version": 3
   },
   "file_extension": ".py",
   "mimetype": "text/x-python",
   "name": "python",
   "nbconvert_exporter": "python",
   "pygments_lexer": "ipython3",
   "version": "3.12.0"
  }
 },
 "nbformat": 4,
 "nbformat_minor": 5
}
